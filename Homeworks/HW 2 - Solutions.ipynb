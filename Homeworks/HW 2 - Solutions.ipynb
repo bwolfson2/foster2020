{
 "cells": [
  {
   "cell_type": "markdown",
   "metadata": {},
   "source": [
    "# Part I: Conceptual exercises"
   ]
  },
  {
   "cell_type": "markdown",
   "metadata": {},
   "source": [
    "**1. Label each case as describing either data mining (DM), or the use of the results of data mining (Use).**\n",
    "\n",
    "a) Choose customers who are most likely to respond to an on-line ad. USE\n",
    "\n",
    "b) Discover rules that indicate when an account has been defrauded. DM\n",
    "\n",
    "c) Find patterns indicating what customer behavior is more likely to lead to response to an on-line ad. DM\n",
    "\n",
    "d) Estimate probability of default for a credit application. USE\n",
    "\n",
    "e) Predict whether a customer is pregnant. USE\n"
   ]
  },
  {
   "cell_type": "markdown",
   "metadata": {},
   "source": [
    "**2)  Plumbing Inc. has been selling plumbing supplies for the last 20 years. The owner, Joe, decides that next year it is finally time to diversify by adding gardening tools to his products. Having had success using customer data to build predictive models to guide direct mail campaigns for special plumbing offers, he considers that data mining could help him to identify a subset of customers who should be good prospects for his new set of products. Is Joe ready to solve this as a supervised learning problem? If yes – what would you suggest as the target variable?  If no  - why not?  What would you recommend that Joe do to achieve his business goal? **"
   ]
  },
  {
   "cell_type": "markdown",
   "metadata": {
    "collapsed": true
   },
   "source": [
    "##### Your answer goes here\n",
    "No.  Joe does not have any appropriate labeled data from which to induce a model.  (Since next year it is time to diversify, he hasn’t done so yet, so has had no gardening tool campaigns.)   [This idea is covered in Chapter 2 under Data Understanding, and also in the section on Supervised vs. Unsupervised.]\n",
    "\n",
    "[He could invest in data by running some test campaigns now, to gather data to see what sort of consumers might be responsive.  Compare with the Signet Bank case in Chapter 1.]\n"
   ]
  },
  {
   "cell_type": "markdown",
   "metadata": {},
   "source": [
    "# Part II: Predicting Show-Up\n",
    "\n",
    "The purpose of this part of the homework is to get you up to speed with data manipulation and model fitting using Python. Ideally, you should be able to start working on your term project after finishing this.\n",
    "\n",
    "### Background\n",
    "\n",
    "You've been hired as the manager of Sacred Heart Medical Clinic (SHMC). As part of its business model, SHMC usually employs doctors on demand, meaning that doctors are asked to come only when there are appointments. However, once a doctor has been asked to come, you must pay him or her regardless of whether the patient shows up or not. You want to use data on previous appointments to figure out whether you can predict which patients are going to show up, so that you can plan better how many doctors to call."
   ]
  },
  {
   "cell_type": "code",
   "execution_count": 1,
   "metadata": {
    "collapsed": true
   },
   "outputs": [],
   "source": [
    "import pandas as pd\n",
    "\n",
    "data_path = \"data/data-hw2.csv\" "
   ]
  },
  {
   "cell_type": "markdown",
   "metadata": {},
   "source": [
    "### Loading the data\n",
    "\n",
    "** 1. Load the data referenced by the path above into a pandas data frame. Print the total number of rows and show the first few rows in the dataset. ** "
   ]
  },
  {
   "cell_type": "code",
   "execution_count": 2,
   "metadata": {},
   "outputs": [
    {
     "name": "stdout",
     "output_type": "stream",
     "text": [
      "(110527, 14)\n"
     ]
    },
    {
     "data": {
      "text/html": [
       "<div>\n",
       "<style scoped>\n",
       "    .dataframe tbody tr th:only-of-type {\n",
       "        vertical-align: middle;\n",
       "    }\n",
       "\n",
       "    .dataframe tbody tr th {\n",
       "        vertical-align: top;\n",
       "    }\n",
       "\n",
       "    .dataframe thead th {\n",
       "        text-align: right;\n",
       "    }\n",
       "</style>\n",
       "<table border=\"1\" class=\"dataframe\">\n",
       "  <thead>\n",
       "    <tr style=\"text-align: right;\">\n",
       "      <th></th>\n",
       "      <th>PatientId</th>\n",
       "      <th>AppointmentID</th>\n",
       "      <th>Gender</th>\n",
       "      <th>ScheduledDay</th>\n",
       "      <th>AppointmentDay</th>\n",
       "      <th>Age</th>\n",
       "      <th>Neighborhood</th>\n",
       "      <th>Scholarship</th>\n",
       "      <th>Hypertension</th>\n",
       "      <th>Diabetes</th>\n",
       "      <th>Alcoholism</th>\n",
       "      <th>Handicap</th>\n",
       "      <th>SMS_received</th>\n",
       "      <th>No-show</th>\n",
       "    </tr>\n",
       "  </thead>\n",
       "  <tbody>\n",
       "    <tr>\n",
       "      <th>0</th>\n",
       "      <td>2.987250e+13</td>\n",
       "      <td>5642903</td>\n",
       "      <td>F</td>\n",
       "      <td>2016-04-29T18:38:08Z</td>\n",
       "      <td>2016-04-29T00:00:00Z</td>\n",
       "      <td>62</td>\n",
       "      <td>JARDIM DA PENHA</td>\n",
       "      <td>0</td>\n",
       "      <td>1</td>\n",
       "      <td>0</td>\n",
       "      <td>0</td>\n",
       "      <td>0</td>\n",
       "      <td>0</td>\n",
       "      <td>No</td>\n",
       "    </tr>\n",
       "    <tr>\n",
       "      <th>1</th>\n",
       "      <td>5.589980e+14</td>\n",
       "      <td>5642503</td>\n",
       "      <td>M</td>\n",
       "      <td>2016-04-29T16:08:27Z</td>\n",
       "      <td>2016-04-29T00:00:00Z</td>\n",
       "      <td>56</td>\n",
       "      <td>JARDIM DA PENHA</td>\n",
       "      <td>0</td>\n",
       "      <td>0</td>\n",
       "      <td>0</td>\n",
       "      <td>0</td>\n",
       "      <td>0</td>\n",
       "      <td>0</td>\n",
       "      <td>No</td>\n",
       "    </tr>\n",
       "    <tr>\n",
       "      <th>2</th>\n",
       "      <td>4.262960e+12</td>\n",
       "      <td>5642549</td>\n",
       "      <td>F</td>\n",
       "      <td>2016-04-29T16:19:04Z</td>\n",
       "      <td>2016-04-29T00:00:00Z</td>\n",
       "      <td>62</td>\n",
       "      <td>MATA DA PRAIA</td>\n",
       "      <td>0</td>\n",
       "      <td>0</td>\n",
       "      <td>0</td>\n",
       "      <td>0</td>\n",
       "      <td>0</td>\n",
       "      <td>0</td>\n",
       "      <td>No</td>\n",
       "    </tr>\n",
       "    <tr>\n",
       "      <th>3</th>\n",
       "      <td>8.679510e+11</td>\n",
       "      <td>5642828</td>\n",
       "      <td>F</td>\n",
       "      <td>2016-04-29T17:29:31Z</td>\n",
       "      <td>2016-04-29T00:00:00Z</td>\n",
       "      <td>8</td>\n",
       "      <td>PONTAL DE CAMBURI</td>\n",
       "      <td>0</td>\n",
       "      <td>0</td>\n",
       "      <td>0</td>\n",
       "      <td>0</td>\n",
       "      <td>0</td>\n",
       "      <td>0</td>\n",
       "      <td>No</td>\n",
       "    </tr>\n",
       "    <tr>\n",
       "      <th>4</th>\n",
       "      <td>8.841190e+12</td>\n",
       "      <td>5642494</td>\n",
       "      <td>F</td>\n",
       "      <td>2016-04-29T16:07:23Z</td>\n",
       "      <td>2016-04-29T00:00:00Z</td>\n",
       "      <td>56</td>\n",
       "      <td>JARDIM DA PENHA</td>\n",
       "      <td>0</td>\n",
       "      <td>1</td>\n",
       "      <td>1</td>\n",
       "      <td>0</td>\n",
       "      <td>0</td>\n",
       "      <td>0</td>\n",
       "      <td>No</td>\n",
       "    </tr>\n",
       "  </tbody>\n",
       "</table>\n",
       "</div>"
      ],
      "text/plain": [
       "      PatientId  AppointmentID Gender          ScheduledDay  \\\n",
       "0  2.987250e+13        5642903      F  2016-04-29T18:38:08Z   \n",
       "1  5.589980e+14        5642503      M  2016-04-29T16:08:27Z   \n",
       "2  4.262960e+12        5642549      F  2016-04-29T16:19:04Z   \n",
       "3  8.679510e+11        5642828      F  2016-04-29T17:29:31Z   \n",
       "4  8.841190e+12        5642494      F  2016-04-29T16:07:23Z   \n",
       "\n",
       "         AppointmentDay  Age       Neighborhood  Scholarship  Hypertension  \\\n",
       "0  2016-04-29T00:00:00Z   62    JARDIM DA PENHA            0             1   \n",
       "1  2016-04-29T00:00:00Z   56    JARDIM DA PENHA            0             0   \n",
       "2  2016-04-29T00:00:00Z   62      MATA DA PRAIA            0             0   \n",
       "3  2016-04-29T00:00:00Z    8  PONTAL DE CAMBURI            0             0   \n",
       "4  2016-04-29T00:00:00Z   56    JARDIM DA PENHA            0             1   \n",
       "\n",
       "   Diabetes  Alcoholism  Handicap  SMS_received No-show  \n",
       "0         0           0         0             0      No  \n",
       "1         0           0         0             0      No  \n",
       "2         0           0         0             0      No  \n",
       "3         0           0         0             0      No  \n",
       "4         1           0         0             0      No  "
      ]
     },
     "execution_count": 2,
     "metadata": {},
     "output_type": "execute_result"
    }
   ],
   "source": [
    "data = pd.read_csv(data_path)\n",
    "print(data.shape)\n",
    "data.head()"
   ]
  },
  {
   "cell_type": "markdown",
   "metadata": {},
   "source": [
    "Here's a brief summary of the variables you should see:\n",
    "\n",
    "1. PatientId - Identification of a patient.\n",
    "2. AppointmentID - Identification of each appointment.\n",
    "3. Gender - Male or female. \n",
    "4. ScheduledDay - The day someone called or registered the appointment.\n",
    "6. AppointmentDay - The day of the actual appointment, when the patient has to visit the doctor. \n",
    "7. Age = How old is the patient. \n",
    "8. Neighborhood - Place where the patient lives. \n",
    "9. Scholarship - Whether the patient receives financial help.\n",
    "10. Hypertension - Whether the patient suffers from hypertension.\n",
    "11. Diabetes - Whether the patient suffers from diabetes.\n",
    "12. Alcoholism - Whether the patient suffers from alcoholism.\n",
    "13. Handicap - Whether the patient is handicapped.\n",
    "14. SMS_received - Whether 1 or more SMS messages were sent to the patient\n",
    "15. No-show - Whether the patient missed the appointment."
   ]
  },
  {
   "cell_type": "markdown",
   "metadata": {},
   "source": [
    "** 2. Check out if there are any Na or NaN values. Drop all the observations that include such values in any of the columns. ** "
   ]
  },
  {
   "cell_type": "code",
   "execution_count": 3,
   "metadata": {},
   "outputs": [
    {
     "name": "stdout",
     "output_type": "stream",
     "text": [
      "0\n"
     ]
    }
   ],
   "source": [
    "#Na per column\n",
    "na_col = data.isnull().sum()\n",
    "#total Na Values\n",
    "print(na_col.sum())\n",
    "#There are no Na Values"
   ]
  },
  {
   "cell_type": "markdown",
   "metadata": {},
   "source": [
    "### Dealing with dates\n",
    "\n",
    "** 3. Transform ScheduledDay and AppointmentDay into datetimes (Hint: Use pandas for this). **"
   ]
  },
  {
   "cell_type": "code",
   "execution_count": 4,
   "metadata": {},
   "outputs": [
    {
     "name": "stdout",
     "output_type": "stream",
     "text": [
      "<class 'pandas.core.frame.DataFrame'>\n",
      "RangeIndex: 110527 entries, 0 to 110526\n",
      "Data columns (total 14 columns):\n",
      "PatientId         110527 non-null float64\n",
      "AppointmentID     110527 non-null int64\n",
      "Gender            110527 non-null object\n",
      "ScheduledDay      110527 non-null datetime64[ns]\n",
      "AppointmentDay    110527 non-null datetime64[ns]\n",
      "Age               110527 non-null int64\n",
      "Neighborhood      110527 non-null object\n",
      "Scholarship       110527 non-null int64\n",
      "Hypertension      110527 non-null int64\n",
      "Diabetes          110527 non-null int64\n",
      "Alcoholism        110527 non-null int64\n",
      "Handicap          110527 non-null int64\n",
      "SMS_received      110527 non-null int64\n",
      "No-show           110527 non-null object\n",
      "dtypes: datetime64[ns](2), float64(1), int64(8), object(3)\n",
      "memory usage: 11.8+ MB\n",
      "None\n"
     ]
    }
   ],
   "source": [
    "from pandas import datetime\n",
    "data['ScheduledDay'] = pd.to_datetime(data['ScheduledDay'])\n",
    "data['AppointmentDay'] = pd.to_datetime(data['AppointmentDay'])\n",
    "print(data.info())"
   ]
  },
  {
   "cell_type": "markdown",
   "metadata": {},
   "source": [
    "** 4. If you take a look at both dates, you will see that ScheduledDay includes a specific time with the date, but AppointmentDay doesn't. In order to compare both fields more easily, \"normalize\" ScheduledDay (i.e., keep only the dates). Hint: See the [normalize](https://pandas.pydata.org/pandas-docs/stable/generated/pandas.Series.dt.normalize.html) method. **"
   ]
  },
  {
   "cell_type": "code",
   "execution_count": 5,
   "metadata": {},
   "outputs": [
    {
     "data": {
      "text/plain": [
       "0   2016-04-29\n",
       "1   2016-04-29\n",
       "2   2016-04-29\n",
       "3   2016-04-29\n",
       "4   2016-04-29\n",
       "Name: ScheduledDay, dtype: datetime64[ns]"
      ]
     },
     "execution_count": 5,
     "metadata": {},
     "output_type": "execute_result"
    }
   ],
   "source": [
    "data['ScheduledDay'] = data['ScheduledDay'].dt.normalize()\n",
    "data.head()['ScheduledDay']"
   ]
  },
  {
   "cell_type": "markdown",
   "metadata": {},
   "source": [
    "** 5. Create a new column called 'TimeInAdvance' for the difference in days between ScheduledDay and AppointmentDay. Make sure that the new field includes only integers (and not TimeDelta, which is the difference between two datetimes).**"
   ]
  },
  {
   "cell_type": "code",
   "execution_count": 6,
   "metadata": {},
   "outputs": [
    {
     "data": {
      "text/plain": [
       "0    0\n",
       "1    0\n",
       "2    0\n",
       "3    0\n",
       "4    0\n",
       "Name: TimeInAdvance, dtype: int64"
      ]
     },
     "execution_count": 6,
     "metadata": {},
     "output_type": "execute_result"
    }
   ],
   "source": [
    "data['TimeInAdvance'] = (data['AppointmentDay'] - data['ScheduledDay']).dt.days\n",
    "data.head()['TimeInAdvance']"
   ]
  },
  {
   "cell_type": "markdown",
   "metadata": {},
   "source": [
    "There are many other features you may want to extract from date variables, such as the time at which the appointment was schedule, the day of the week, the month, etc. However, we will only use TimeInAdvance for the purposes of this homework."
   ]
  },
  {
   "cell_type": "markdown",
   "metadata": {},
   "source": [
    "### Cleaning data"
   ]
  },
  {
   "cell_type": "markdown",
   "metadata": {},
   "source": [
    "**6. Use the \"describe\" command from pandas to obtain some general stats about the data (in case you forgot about it, take a look at the 'Dealing with data' notebook in Module 1). Do you see any weird values in any of the columns? Remove all observations that include \"weird\" or wrong values and comment on why did you remove such observations. Also, print the number of observations you removed. **"
   ]
  },
  {
   "cell_type": "code",
   "execution_count": 7,
   "metadata": {},
   "outputs": [
    {
     "data": {
      "text/html": [
       "<div>\n",
       "<style scoped>\n",
       "    .dataframe tbody tr th:only-of-type {\n",
       "        vertical-align: middle;\n",
       "    }\n",
       "\n",
       "    .dataframe tbody tr th {\n",
       "        vertical-align: top;\n",
       "    }\n",
       "\n",
       "    .dataframe thead th {\n",
       "        text-align: right;\n",
       "    }\n",
       "</style>\n",
       "<table border=\"1\" class=\"dataframe\">\n",
       "  <thead>\n",
       "    <tr style=\"text-align: right;\">\n",
       "      <th></th>\n",
       "      <th>PatientId</th>\n",
       "      <th>AppointmentID</th>\n",
       "      <th>Age</th>\n",
       "      <th>Scholarship</th>\n",
       "      <th>Hypertension</th>\n",
       "      <th>Diabetes</th>\n",
       "      <th>Alcoholism</th>\n",
       "      <th>Handicap</th>\n",
       "      <th>SMS_received</th>\n",
       "      <th>TimeInAdvance</th>\n",
       "    </tr>\n",
       "  </thead>\n",
       "  <tbody>\n",
       "    <tr>\n",
       "      <th>count</th>\n",
       "      <td>1.105270e+05</td>\n",
       "      <td>1.105270e+05</td>\n",
       "      <td>110527.000000</td>\n",
       "      <td>110527.000000</td>\n",
       "      <td>110527.000000</td>\n",
       "      <td>110527.000000</td>\n",
       "      <td>110527.000000</td>\n",
       "      <td>110527.000000</td>\n",
       "      <td>110527.000000</td>\n",
       "      <td>110527.000000</td>\n",
       "    </tr>\n",
       "    <tr>\n",
       "      <th>mean</th>\n",
       "      <td>1.474963e+14</td>\n",
       "      <td>5.675305e+06</td>\n",
       "      <td>37.088874</td>\n",
       "      <td>0.098266</td>\n",
       "      <td>0.197246</td>\n",
       "      <td>0.071865</td>\n",
       "      <td>0.030400</td>\n",
       "      <td>0.022248</td>\n",
       "      <td>0.321026</td>\n",
       "      <td>10.183702</td>\n",
       "    </tr>\n",
       "    <tr>\n",
       "      <th>std</th>\n",
       "      <td>2.560949e+14</td>\n",
       "      <td>7.129575e+04</td>\n",
       "      <td>23.110205</td>\n",
       "      <td>0.297675</td>\n",
       "      <td>0.397921</td>\n",
       "      <td>0.258265</td>\n",
       "      <td>0.171686</td>\n",
       "      <td>0.161543</td>\n",
       "      <td>0.466873</td>\n",
       "      <td>15.254996</td>\n",
       "    </tr>\n",
       "    <tr>\n",
       "      <th>min</th>\n",
       "      <td>3.920000e+04</td>\n",
       "      <td>5.030230e+06</td>\n",
       "      <td>-1.000000</td>\n",
       "      <td>0.000000</td>\n",
       "      <td>0.000000</td>\n",
       "      <td>0.000000</td>\n",
       "      <td>0.000000</td>\n",
       "      <td>0.000000</td>\n",
       "      <td>0.000000</td>\n",
       "      <td>-6.000000</td>\n",
       "    </tr>\n",
       "    <tr>\n",
       "      <th>25%</th>\n",
       "      <td>4.172615e+12</td>\n",
       "      <td>5.640286e+06</td>\n",
       "      <td>18.000000</td>\n",
       "      <td>0.000000</td>\n",
       "      <td>0.000000</td>\n",
       "      <td>0.000000</td>\n",
       "      <td>0.000000</td>\n",
       "      <td>0.000000</td>\n",
       "      <td>0.000000</td>\n",
       "      <td>0.000000</td>\n",
       "    </tr>\n",
       "    <tr>\n",
       "      <th>50%</th>\n",
       "      <td>3.173180e+13</td>\n",
       "      <td>5.680573e+06</td>\n",
       "      <td>37.000000</td>\n",
       "      <td>0.000000</td>\n",
       "      <td>0.000000</td>\n",
       "      <td>0.000000</td>\n",
       "      <td>0.000000</td>\n",
       "      <td>0.000000</td>\n",
       "      <td>0.000000</td>\n",
       "      <td>4.000000</td>\n",
       "    </tr>\n",
       "    <tr>\n",
       "      <th>75%</th>\n",
       "      <td>9.439170e+13</td>\n",
       "      <td>5.725524e+06</td>\n",
       "      <td>55.000000</td>\n",
       "      <td>0.000000</td>\n",
       "      <td>0.000000</td>\n",
       "      <td>0.000000</td>\n",
       "      <td>0.000000</td>\n",
       "      <td>0.000000</td>\n",
       "      <td>1.000000</td>\n",
       "      <td>15.000000</td>\n",
       "    </tr>\n",
       "    <tr>\n",
       "      <th>max</th>\n",
       "      <td>9.999820e+14</td>\n",
       "      <td>5.790484e+06</td>\n",
       "      <td>115.000000</td>\n",
       "      <td>1.000000</td>\n",
       "      <td>1.000000</td>\n",
       "      <td>1.000000</td>\n",
       "      <td>1.000000</td>\n",
       "      <td>4.000000</td>\n",
       "      <td>1.000000</td>\n",
       "      <td>179.000000</td>\n",
       "    </tr>\n",
       "  </tbody>\n",
       "</table>\n",
       "</div>"
      ],
      "text/plain": [
       "          PatientId  AppointmentID            Age    Scholarship  \\\n",
       "count  1.105270e+05   1.105270e+05  110527.000000  110527.000000   \n",
       "mean   1.474963e+14   5.675305e+06      37.088874       0.098266   \n",
       "std    2.560949e+14   7.129575e+04      23.110205       0.297675   \n",
       "min    3.920000e+04   5.030230e+06      -1.000000       0.000000   \n",
       "25%    4.172615e+12   5.640286e+06      18.000000       0.000000   \n",
       "50%    3.173180e+13   5.680573e+06      37.000000       0.000000   \n",
       "75%    9.439170e+13   5.725524e+06      55.000000       0.000000   \n",
       "max    9.999820e+14   5.790484e+06     115.000000       1.000000   \n",
       "\n",
       "        Hypertension       Diabetes     Alcoholism       Handicap  \\\n",
       "count  110527.000000  110527.000000  110527.000000  110527.000000   \n",
       "mean        0.197246       0.071865       0.030400       0.022248   \n",
       "std         0.397921       0.258265       0.171686       0.161543   \n",
       "min         0.000000       0.000000       0.000000       0.000000   \n",
       "25%         0.000000       0.000000       0.000000       0.000000   \n",
       "50%         0.000000       0.000000       0.000000       0.000000   \n",
       "75%         0.000000       0.000000       0.000000       0.000000   \n",
       "max         1.000000       1.000000       1.000000       4.000000   \n",
       "\n",
       "        SMS_received  TimeInAdvance  \n",
       "count  110527.000000  110527.000000  \n",
       "mean        0.321026      10.183702  \n",
       "std         0.466873      15.254996  \n",
       "min         0.000000      -6.000000  \n",
       "25%         0.000000       0.000000  \n",
       "50%         0.000000       4.000000  \n",
       "75%         1.000000      15.000000  \n",
       "max         1.000000     179.000000  "
      ]
     },
     "execution_count": 7,
     "metadata": {},
     "output_type": "execute_result"
    }
   ],
   "source": [
    "data.describe()"
   ]
  },
  {
   "cell_type": "code",
   "execution_count": 8,
   "metadata": {},
   "outputs": [
    {
     "name": "stdout",
     "output_type": "stream",
     "text": [
      "212\n"
     ]
    }
   ],
   "source": [
    "#Age column seems to have wrong values, nobody could have -1 years or 115. \n",
    "#Handicap should be a binary value, 4 is not a valid value.\n",
    "#TimeInAdvance should be equal or greater than 0.\n",
    "original_size = data.shape[0]\n",
    "\n",
    "data = data[data['Age'] <= 100]\n",
    "data = data[data['Age'] >= 0]\n",
    "data = data[data['Handicap'] <=1]\n",
    "data = data[data['TimeInAdvance'] >= 0]\n",
    "\n",
    "new_size = data.shape[0]\n",
    "print(original_size - new_size)"
   ]
  },
  {
   "cell_type": "markdown",
   "metadata": {},
   "source": [
    "### Dealing with binary variables"
   ]
  },
  {
   "cell_type": "markdown",
   "metadata": {},
   "source": [
    "** 7. Create a new column called \"IsFemale\" that is 1 if the patient is female and 0 otherwise. Hint: Take a look at the [where](https://docs.scipy.org/doc/numpy-1.15.0/reference/generated/numpy.where.html) method. Make sure to also drop the Gender column.  **"
   ]
  },
  {
   "cell_type": "code",
   "execution_count": 9,
   "metadata": {},
   "outputs": [
    {
     "data": {
      "text/plain": [
       "0    1\n",
       "1    0\n",
       "2    1\n",
       "3    1\n",
       "4    1\n",
       "Name: IsFemale, dtype: int32"
      ]
     },
     "execution_count": 9,
     "metadata": {},
     "output_type": "execute_result"
    }
   ],
   "source": [
    "import numpy as np\n",
    "data['IsFemale'] = np.where(data['Gender']=='F',1,0)\n",
    "data.drop(['Gender'], axis=\"columns\", inplace=True)\n",
    "data.head()['IsFemale']"
   ]
  },
  {
   "cell_type": "markdown",
   "metadata": {},
   "source": [
    "** 8. Do the same for the No-show variable. It should be 1 if the person didn't show and 0 otherwise. **"
   ]
  },
  {
   "cell_type": "code",
   "execution_count": 10,
   "metadata": {},
   "outputs": [
    {
     "data": {
      "text/plain": [
       "0    0\n",
       "1    0\n",
       "2    0\n",
       "3    0\n",
       "4    0\n",
       "Name: DidNotShow, dtype: int32"
      ]
     },
     "execution_count": 10,
     "metadata": {},
     "output_type": "execute_result"
    }
   ],
   "source": [
    "data['DidNotShow'] = np.where(data['No-show']=='Yes',1,0)\n",
    "data.drop(['No-show'], axis=\"columns\", inplace=True)\n",
    "data.head()['DidNotShow']"
   ]
  },
  {
   "cell_type": "markdown",
   "metadata": {},
   "source": [
    "### Dealing with categorical variables\n",
    "\n",
    "** 9. Let's take a look at the Neighbordhood column. How many unique neighborhoods are there? Which are the 5 most common neighborhoods? Which are the 5 least common ones?  ** "
   ]
  },
  {
   "cell_type": "code",
   "execution_count": 11,
   "metadata": {},
   "outputs": [
    {
     "name": "stdout",
     "output_type": "stream",
     "text": [
      "Unique: 81\n",
      "Most common:\n",
      "JARDIM CAMBURI     7717\n",
      "MARIA ORTIZ        5804\n",
      "RESISTÊNCIA        4419\n",
      "JARDIM DA PENHA    3872\n",
      "ITARARÉ            3507\n",
      "Name: Neighborhood, dtype: int64\n",
      "Less common:\n",
      "ILHA DO BOI                    35\n",
      "ILHA DO FRADE                  10\n",
      "AEROPORTO                       8\n",
      "ILHAS OCEÂNICAS DE TRINDADE     2\n",
      "PARQUE INDUSTRIAL               1\n",
      "Name: Neighborhood, dtype: int64\n"
     ]
    }
   ],
   "source": [
    "counts = data.Neighborhood.value_counts()\n",
    "#Unique neighborhoods\n",
    "print(\"Unique: {0}\".format(counts.size))\n",
    "\n",
    "#Most common neighborhoods\n",
    "print(\"Most common:\")\n",
    "print(counts[:5])\n",
    "\n",
    "#Less common neighborhoods\n",
    "print(\"Less common:\")\n",
    "print(counts[-5:])"
   ]
  },
  {
   "cell_type": "markdown",
   "metadata": {},
   "source": [
    "** 10. (Optional, extra points) We often group together categories that are very rare because it's hard to genearlize from them. Find the neighborhoods that appear less than 500 times in the dataset and replace their name with \"OTHER\". **"
   ]
  },
  {
   "cell_type": "code",
   "execution_count": 12,
   "metadata": {},
   "outputs": [
    {
     "data": {
      "text/plain": [
       "0    JARDIM DA PENHA\n",
       "1    JARDIM DA PENHA\n",
       "2      MATA DA PRAIA\n",
       "3              OTHER\n",
       "4    JARDIM DA PENHA\n",
       "Name: Neighborhood, dtype: object"
      ]
     },
     "execution_count": 12,
     "metadata": {},
     "output_type": "execute_result"
    }
   ],
   "source": [
    "data.Neighborhood = np.where(counts[data.Neighborhood] < 500, \"OTHER\", data.Neighborhood)\n",
    "data.head()['Neighborhood']"
   ]
  },
  {
   "cell_type": "markdown",
   "metadata": {},
   "source": [
    "** 11. Get dummy/indicator variables for each neighborhood and add them to the dataframe. Hint: Take a look at the [get_dummies](https://pandas.pydata.org/pandas-docs/stable/generated/pandas.get_dummies.html) method. Make sure to also drop the Neighborhood column. **"
   ]
  },
  {
   "cell_type": "code",
   "execution_count": 13,
   "metadata": {},
   "outputs": [
    {
     "data": {
      "text/plain": [
       "Index(['PatientId', 'AppointmentID', 'ScheduledDay', 'AppointmentDay', 'Age',\n",
       "       'Scholarship', 'Hypertension', 'Diabetes', 'Alcoholism', 'Handicap',\n",
       "       'SMS_received', 'TimeInAdvance', 'IsFemale', 'DidNotShow',\n",
       "       'Neighborhood_ANDORINHAS', 'Neighborhood_BELA VISTA',\n",
       "       'Neighborhood_BENTO FERREIRA', 'Neighborhood_BONFIM',\n",
       "       'Neighborhood_CARATOÍRA', 'Neighborhood_CENTRO',\n",
       "       'Neighborhood_CONQUISTA', 'Neighborhood_CONSOLAÇÃO',\n",
       "       'Neighborhood_CRUZAMENTO', 'Neighborhood_DA PENHA',\n",
       "       'Neighborhood_DO CABRAL', 'Neighborhood_DO QUADRO',\n",
       "       'Neighborhood_ESTRELINHA', 'Neighborhood_FONTE GRANDE',\n",
       "       'Neighborhood_FORTE SÃO JOÃO', 'Neighborhood_GOIABEIRAS',\n",
       "       'Neighborhood_GRANDE VITÓRIA', 'Neighborhood_GURIGICA',\n",
       "       'Neighborhood_ILHA DAS CAIEIRAS', 'Neighborhood_ILHA DE SANTA MARIA',\n",
       "       'Neighborhood_ILHA DO PRÍNCIPE', 'Neighborhood_INHANGUETÁ',\n",
       "       'Neighborhood_ITARARÉ', 'Neighborhood_JABOUR',\n",
       "       'Neighborhood_JARDIM CAMBURI', 'Neighborhood_JARDIM DA PENHA',\n",
       "       'Neighborhood_JESUS DE NAZARETH', 'Neighborhood_JOANA D´ARC',\n",
       "       'Neighborhood_JUCUTUQUARA', 'Neighborhood_MARIA ORTIZ',\n",
       "       'Neighborhood_MARUÍPE', 'Neighborhood_MATA DA PRAIA',\n",
       "       'Neighborhood_MONTE BELO', 'Neighborhood_NOVA PALESTINA',\n",
       "       'Neighborhood_OTHER', 'Neighborhood_PARQUE MOSCOSO',\n",
       "       'Neighborhood_PRAIA DO CANTO', 'Neighborhood_PRAIA DO SUÁ',\n",
       "       'Neighborhood_REDENÇÃO', 'Neighborhood_REPÚBLICA',\n",
       "       'Neighborhood_RESISTÊNCIA', 'Neighborhood_ROMÃO',\n",
       "       'Neighborhood_SANTA CLARA', 'Neighborhood_SANTA MARTHA',\n",
       "       'Neighborhood_SANTA TEREZA', 'Neighborhood_SANTO ANDRÉ',\n",
       "       'Neighborhood_SANTO ANTÔNIO', 'Neighborhood_SANTOS DUMONT',\n",
       "       'Neighborhood_SANTOS REIS', 'Neighborhood_SÃO BENEDITO',\n",
       "       'Neighborhood_SÃO CRISTÓVÃO', 'Neighborhood_SÃO JOSÉ',\n",
       "       'Neighborhood_SÃO PEDRO', 'Neighborhood_TABUAZEIRO',\n",
       "       'Neighborhood_VILA RUBIM'],\n",
       "      dtype='object')"
      ]
     },
     "execution_count": 13,
     "metadata": {},
     "output_type": "execute_result"
    }
   ],
   "source": [
    "data = pd.get_dummies(data, columns=['Neighborhood'])\n",
    "data.columns"
   ]
  },
  {
   "cell_type": "markdown",
   "metadata": {},
   "source": [
    "### Dealing with panel data\n",
    "\n",
    "** 12. Let's take a look at the PatientsId column. How many patients have made more than one appointment?  **"
   ]
  },
  {
   "cell_type": "code",
   "execution_count": 14,
   "metadata": {},
   "outputs": [
    {
     "data": {
      "text/plain": [
       "24447"
      ]
     },
     "execution_count": 14,
     "metadata": {},
     "output_type": "execute_result"
    }
   ],
   "source": [
    "(data.PatientId.value_counts() > 1).sum()"
   ]
  },
  {
   "cell_type": "markdown",
   "metadata": {},
   "source": [
    "As you can see, there are many patients that have made more than one appointment. Panel data (also called longitudinal data) contain observations for the same individuals over multiple periods of time. In our particuclar case, such data may help us to make better predictions. For example, the fact that a patient has failed to show up in the past may be predictive of the patient not showing up in the future. That being said, taking advantage of panel data often requires additional data processing. The following exercise is **optional** and relatively advanced, so feel free to ignore it. "
   ]
  },
  {
   "cell_type": "markdown",
   "metadata": {},
   "source": [
    "** 13. (Optional, extra points) Create a new column called \"PreviousNoShows\" that for each appointment includes the number of past appointments to which the patient did not show. For example, if the person did not show to the first meeting, PreviousNoShows should be 0 for the first appointment and 1 for the second one (if there is any). Hint: Sort the dataframe by PatientID and ScheduledDay. Then, group by PatientID and compute the cumulative sum of the No-show variable. All of these things can be done using pandas. **"
   ]
  },
  {
   "cell_type": "code",
   "execution_count": 15,
   "metadata": {},
   "outputs": [
    {
     "data": {
      "text/html": [
       "<div>\n",
       "<style scoped>\n",
       "    .dataframe tbody tr th:only-of-type {\n",
       "        vertical-align: middle;\n",
       "    }\n",
       "\n",
       "    .dataframe tbody tr th {\n",
       "        vertical-align: top;\n",
       "    }\n",
       "\n",
       "    .dataframe thead th {\n",
       "        text-align: right;\n",
       "    }\n",
       "</style>\n",
       "<table border=\"1\" class=\"dataframe\">\n",
       "  <thead>\n",
       "    <tr style=\"text-align: right;\">\n",
       "      <th></th>\n",
       "      <th>PatientId</th>\n",
       "      <th>ScheduledDay</th>\n",
       "      <th>DidNotShow</th>\n",
       "      <th>PreviousNoShows</th>\n",
       "    </tr>\n",
       "  </thead>\n",
       "  <tbody>\n",
       "    <tr>\n",
       "      <th>100517</th>\n",
       "      <td>39200.0</td>\n",
       "      <td>2016-05-31</td>\n",
       "      <td>0</td>\n",
       "      <td>0</td>\n",
       "    </tr>\n",
       "    <tr>\n",
       "      <th>105430</th>\n",
       "      <td>43700.0</td>\n",
       "      <td>2016-06-01</td>\n",
       "      <td>0</td>\n",
       "      <td>0</td>\n",
       "    </tr>\n",
       "    <tr>\n",
       "      <th>3950</th>\n",
       "      <td>93800.0</td>\n",
       "      <td>2016-05-18</td>\n",
       "      <td>0</td>\n",
       "      <td>0</td>\n",
       "    </tr>\n",
       "    <tr>\n",
       "      <th>73303</th>\n",
       "      <td>142000.0</td>\n",
       "      <td>2016-04-29</td>\n",
       "      <td>0</td>\n",
       "      <td>0</td>\n",
       "    </tr>\n",
       "    <tr>\n",
       "      <th>73228</th>\n",
       "      <td>538000.0</td>\n",
       "      <td>2016-04-29</td>\n",
       "      <td>0</td>\n",
       "      <td>0</td>\n",
       "    </tr>\n",
       "    <tr>\n",
       "      <th>54611</th>\n",
       "      <td>5628261.0</td>\n",
       "      <td>2016-05-10</td>\n",
       "      <td>1</td>\n",
       "      <td>0</td>\n",
       "    </tr>\n",
       "    <tr>\n",
       "      <th>40692</th>\n",
       "      <td>11831856.0</td>\n",
       "      <td>2016-05-19</td>\n",
       "      <td>0</td>\n",
       "      <td>0</td>\n",
       "    </tr>\n",
       "    <tr>\n",
       "      <th>58616</th>\n",
       "      <td>22638656.0</td>\n",
       "      <td>2016-04-14</td>\n",
       "      <td>0</td>\n",
       "      <td>0</td>\n",
       "    </tr>\n",
       "    <tr>\n",
       "      <th>88585</th>\n",
       "      <td>22638656.0</td>\n",
       "      <td>2016-05-18</td>\n",
       "      <td>0</td>\n",
       "      <td>0</td>\n",
       "    </tr>\n",
       "    <tr>\n",
       "      <th>49826</th>\n",
       "      <td>52168938.0</td>\n",
       "      <td>2016-04-20</td>\n",
       "      <td>0</td>\n",
       "      <td>0</td>\n",
       "    </tr>\n",
       "    <tr>\n",
       "      <th>83628</th>\n",
       "      <td>52168938.0</td>\n",
       "      <td>2016-05-16</td>\n",
       "      <td>0</td>\n",
       "      <td>0</td>\n",
       "    </tr>\n",
       "    <tr>\n",
       "      <th>46340</th>\n",
       "      <td>54223998.0</td>\n",
       "      <td>2016-04-25</td>\n",
       "      <td>0</td>\n",
       "      <td>0</td>\n",
       "    </tr>\n",
       "    <tr>\n",
       "      <th>87429</th>\n",
       "      <td>61433777.0</td>\n",
       "      <td>2016-06-02</td>\n",
       "      <td>0</td>\n",
       "      <td>0</td>\n",
       "    </tr>\n",
       "    <tr>\n",
       "      <th>21106</th>\n",
       "      <td>62497926.0</td>\n",
       "      <td>2016-05-09</td>\n",
       "      <td>0</td>\n",
       "      <td>0</td>\n",
       "    </tr>\n",
       "    <tr>\n",
       "      <th>11009</th>\n",
       "      <td>64851211.0</td>\n",
       "      <td>2016-05-11</td>\n",
       "      <td>1</td>\n",
       "      <td>0</td>\n",
       "    </tr>\n",
       "    <tr>\n",
       "      <th>6674</th>\n",
       "      <td>64851211.0</td>\n",
       "      <td>2016-05-13</td>\n",
       "      <td>0</td>\n",
       "      <td>1</td>\n",
       "    </tr>\n",
       "    <tr>\n",
       "      <th>63853</th>\n",
       "      <td>78385479.0</td>\n",
       "      <td>2016-04-29</td>\n",
       "      <td>0</td>\n",
       "      <td>0</td>\n",
       "    </tr>\n",
       "    <tr>\n",
       "      <th>58066</th>\n",
       "      <td>79228495.0</td>\n",
       "      <td>2016-05-30</td>\n",
       "      <td>0</td>\n",
       "      <td>0</td>\n",
       "    </tr>\n",
       "    <tr>\n",
       "      <th>89371</th>\n",
       "      <td>79228495.0</td>\n",
       "      <td>2016-05-30</td>\n",
       "      <td>0</td>\n",
       "      <td>0</td>\n",
       "    </tr>\n",
       "    <tr>\n",
       "      <th>40818</th>\n",
       "      <td>86584742.0</td>\n",
       "      <td>2016-05-09</td>\n",
       "      <td>0</td>\n",
       "      <td>0</td>\n",
       "    </tr>\n",
       "  </tbody>\n",
       "</table>\n",
       "</div>"
      ],
      "text/plain": [
       "         PatientId ScheduledDay  DidNotShow  PreviousNoShows\n",
       "100517     39200.0   2016-05-31           0                0\n",
       "105430     43700.0   2016-06-01           0                0\n",
       "3950       93800.0   2016-05-18           0                0\n",
       "73303     142000.0   2016-04-29           0                0\n",
       "73228     538000.0   2016-04-29           0                0\n",
       "54611    5628261.0   2016-05-10           1                0\n",
       "40692   11831856.0   2016-05-19           0                0\n",
       "58616   22638656.0   2016-04-14           0                0\n",
       "88585   22638656.0   2016-05-18           0                0\n",
       "49826   52168938.0   2016-04-20           0                0\n",
       "83628   52168938.0   2016-05-16           0                0\n",
       "46340   54223998.0   2016-04-25           0                0\n",
       "87429   61433777.0   2016-06-02           0                0\n",
       "21106   62497926.0   2016-05-09           0                0\n",
       "11009   64851211.0   2016-05-11           1                0\n",
       "6674    64851211.0   2016-05-13           0                1\n",
       "63853   78385479.0   2016-04-29           0                0\n",
       "58066   79228495.0   2016-05-30           0                0\n",
       "89371   79228495.0   2016-05-30           0                0\n",
       "40818   86584742.0   2016-05-09           0                0"
      ]
     },
     "execution_count": 15,
     "metadata": {},
     "output_type": "execute_result"
    }
   ],
   "source": [
    "data = data.sort_values([\"PatientId\", \"ScheduledDay\"])\n",
    "data[\"PreviousNoShows\"] = data.groupby(\"PatientId\")[\"DidNotShow\"].cumsum() - data[\"DidNotShow\"]\n",
    "data.head(30)[[\"PatientId\", \"ScheduledDay\", \"DidNotShow\", \"PreviousNoShows\"]].head(20)"
   ]
  },
  {
   "cell_type": "markdown",
   "metadata": {},
   "source": [
    "There are many other features we could compute with this data set, such as time between appointments, number of past appointments, fraction of appointments to which the patient did not show up, etc. However, for the purposes of this homework, we will only work with PreviousNoShows."
   ]
  },
  {
   "cell_type": "markdown",
   "metadata": {},
   "source": [
    "### Removing the unnecessary\n",
    "\n",
    "**14. Let's drop the columns we won't be needing. Drop PatientId, AppointmentID, ScheduledDay, AppointmentDay. **"
   ]
  },
  {
   "cell_type": "code",
   "execution_count": 16,
   "metadata": {},
   "outputs": [
    {
     "data": {
      "text/plain": [
       "Index(['Age', 'Scholarship', 'Hypertension', 'Diabetes', 'Alcoholism',\n",
       "       'Handicap', 'SMS_received', 'TimeInAdvance', 'IsFemale', 'DidNotShow',\n",
       "       'Neighborhood_ANDORINHAS', 'Neighborhood_BELA VISTA',\n",
       "       'Neighborhood_BENTO FERREIRA', 'Neighborhood_BONFIM',\n",
       "       'Neighborhood_CARATOÍRA', 'Neighborhood_CENTRO',\n",
       "       'Neighborhood_CONQUISTA', 'Neighborhood_CONSOLAÇÃO',\n",
       "       'Neighborhood_CRUZAMENTO', 'Neighborhood_DA PENHA',\n",
       "       'Neighborhood_DO CABRAL', 'Neighborhood_DO QUADRO',\n",
       "       'Neighborhood_ESTRELINHA', 'Neighborhood_FONTE GRANDE',\n",
       "       'Neighborhood_FORTE SÃO JOÃO', 'Neighborhood_GOIABEIRAS',\n",
       "       'Neighborhood_GRANDE VITÓRIA', 'Neighborhood_GURIGICA',\n",
       "       'Neighborhood_ILHA DAS CAIEIRAS', 'Neighborhood_ILHA DE SANTA MARIA',\n",
       "       'Neighborhood_ILHA DO PRÍNCIPE', 'Neighborhood_INHANGUETÁ',\n",
       "       'Neighborhood_ITARARÉ', 'Neighborhood_JABOUR',\n",
       "       'Neighborhood_JARDIM CAMBURI', 'Neighborhood_JARDIM DA PENHA',\n",
       "       'Neighborhood_JESUS DE NAZARETH', 'Neighborhood_JOANA D´ARC',\n",
       "       'Neighborhood_JUCUTUQUARA', 'Neighborhood_MARIA ORTIZ',\n",
       "       'Neighborhood_MARUÍPE', 'Neighborhood_MATA DA PRAIA',\n",
       "       'Neighborhood_MONTE BELO', 'Neighborhood_NOVA PALESTINA',\n",
       "       'Neighborhood_OTHER', 'Neighborhood_PARQUE MOSCOSO',\n",
       "       'Neighborhood_PRAIA DO CANTO', 'Neighborhood_PRAIA DO SUÁ',\n",
       "       'Neighborhood_REDENÇÃO', 'Neighborhood_REPÚBLICA',\n",
       "       'Neighborhood_RESISTÊNCIA', 'Neighborhood_ROMÃO',\n",
       "       'Neighborhood_SANTA CLARA', 'Neighborhood_SANTA MARTHA',\n",
       "       'Neighborhood_SANTA TEREZA', 'Neighborhood_SANTO ANDRÉ',\n",
       "       'Neighborhood_SANTO ANTÔNIO', 'Neighborhood_SANTOS DUMONT',\n",
       "       'Neighborhood_SANTOS REIS', 'Neighborhood_SÃO BENEDITO',\n",
       "       'Neighborhood_SÃO CRISTÓVÃO', 'Neighborhood_SÃO JOSÉ',\n",
       "       'Neighborhood_SÃO PEDRO', 'Neighborhood_TABUAZEIRO',\n",
       "       'Neighborhood_VILA RUBIM', 'PreviousNoShows'],\n",
       "      dtype='object')"
      ]
     },
     "execution_count": 16,
     "metadata": {},
     "output_type": "execute_result"
    }
   ],
   "source": [
    "data.drop(['PatientId','AppointmentID','ScheduledDay','AppointmentDay'],axis=1,inplace=True)\n",
    "data.columns"
   ]
  },
  {
   "cell_type": "markdown",
   "metadata": {},
   "source": [
    "### Predictive modeling\n",
    "\n",
    "** 15. Let's build a model to predict if someone will not show up using a DecisionTreeClassifier. Report the training accuracy and the cross-validated accuracy using 5 folds. **"
   ]
  },
  {
   "cell_type": "code",
   "execution_count": 17,
   "metadata": {},
   "outputs": [
    {
     "name": "stderr",
     "output_type": "stream",
     "text": [
      "C:\\Users\\ferlo\\Anaconda3\\lib\\site-packages\\sklearn\\cross_validation.py:41: DeprecationWarning: This module was deprecated in version 0.18 in favor of the model_selection module into which all the refactored classes and functions are moved. Also note that the interface of the new CV iterators are different from that of this module. This module will be removed in 0.20.\n",
      "  \"This module will be removed in 0.20.\", DeprecationWarning)\n"
     ]
    },
    {
     "name": "stdout",
     "output_type": "stream",
     "text": [
      "Training accuracy: 0.97\n",
      "Cross validation accuracy: 0.73\n"
     ]
    }
   ],
   "source": [
    "from sklearn.tree import DecisionTreeClassifier\n",
    "from sklearn.cross_validation import  cross_val_score\n",
    "from sklearn.metrics import accuracy_score\n",
    "\n",
    "target = \"DidNotShow\"\n",
    "predictors = data.columns[data.columns != target]\n",
    "\n",
    "X = data[predictors]\n",
    "y = data[target]\n",
    "\n",
    "model = DecisionTreeClassifier()\n",
    "\n",
    "model.fit(X, y)\n",
    "predictions = model.predict(X)\n",
    "train_acc = accuracy_score(predictions, y)\n",
    "cross_val_acc = cross_val_score(model, X, y, cv=5).mean()\n",
    "\n",
    "print(\"Training accuracy: {0:.2f}\".format(round(train_acc, 2)))\n",
    "print(\"Cross validation accuracy: {0:.2f}\".format(round(cross_val_acc, 2)))"
   ]
  },
  {
   "cell_type": "markdown",
   "metadata": {},
   "source": [
    "** 16. As discussed in class, one way to control the complexity of a decision tree is by enforcing that at least some minimum number of examples from the training set populate each leaf. This is set with the min_samples_leaf parameter. Try values for min_samples_leaf ranging from 1 to 4096 by doubling the number of samples (i.e., 1, 2, 4, 8, ..., 4096). For each value, compute the training accuracy and the cross-validated accuracy. Use the results to plot fitting curves and explain what they show. What do you think is the most appropriate value for min_samples_leaf for this problem? ** "
   ]
  },
  {
   "cell_type": "code",
   "execution_count": 18,
   "metadata": {},
   "outputs": [
    {
     "data": {
      "image/png": "[encoded data removed]",
      "text/plain": [
       "<Figure size 432x288 with 1 Axes>"
      ]
     },
     "metadata": {},
     "output_type": "display_data"
    }
   ],
   "source": [
    "import matplotlib.pyplot as plt\n",
    "\n",
    "list_cv = []\n",
    "list_train = []\n",
    "leaf_val = []\n",
    "leaf = 1\n",
    "while leaf < 4097:    \n",
    "    model = DecisionTreeClassifier(min_samples_leaf=leaf)\n",
    "    model.fit(X, y)\n",
    "    predictions = model.predict(X)\n",
    "    train_acc = accuracy_score(predictions, y)\n",
    "    cross_val_acc = cross_val_score(model, X, y, cv=5).mean()\n",
    "    leaf_val.append(leaf)\n",
    "    leaf=leaf*2\n",
    "    list_cv.append(cross_val_acc)\n",
    "    list_train.append(train_acc)\n",
    "    \n",
    "\n",
    "# I'll use logarithmic scale to plot the graph\n",
    "log_scale = np.log(leaf_val)\n",
    "plt.plot(log_scale, list_cv)\n",
    "plt.plot(log_scale, list_train)\n",
    "plt.show()"
   ]
  },
  {
   "cell_type": "code",
   "execution_count": 19,
   "metadata": {},
   "outputs": [
    {
     "data": {
      "image/png": "[encoded data removed]",
      "text/plain": [
       "<Figure size 432x288 with 1 Axes>"
      ]
     },
     "metadata": {},
     "output_type": "display_data"
    }
   ],
   "source": [
    "# Plot just cross_validation\n",
    "plt.plot(log_scale, list_cv)\n",
    "plt.show()"
   ]
  },
  {
   "cell_type": "code",
   "execution_count": 20,
   "metadata": {},
   "outputs": [
    {
     "name": "stdout",
     "output_type": "stream",
     "text": [
      "55\n",
      "403\n"
     ]
    }
   ],
   "source": [
    "# The most appropriate value should be a min_samples_leaf between these two values:\n",
    "print(\"{0:.0f}\".format(np.exp(4)))\n",
    "print(\"{0:.0f}\".format(np.exp(6)))\n",
    "# These values have the largest cross_validation accuracy"
   ]
  },
  {
   "cell_type": "markdown",
   "metadata": {},
   "source": [
    "** 17. (Optional, extra points) Do you think the accuracy of the model you built is good or not? Why? What other addititonal information would be useful to evaluate whether the model is any good? How would you use that information to evaluate the model? **"
   ]
  },
  {
   "cell_type": "markdown",
   "metadata": {
    "collapsed": true
   },
   "source": [
    "The accuracy is not good. You can obtain an accuracy of roughly 80% by predicting that people are always going to show up.\n",
    "\n",
    "However, this does **not** mean that the model has zero predictive power. For example, it may be the case that the model is useful to estimate the probability of people not showing up. It just happens that everybody has a probability of showing up that is greater than 50%, and so the model predicts \"Show-up\" for everyone. If this is the case, the model may be useful to predict the overall number of people that would arrive in a given day. This would allow to plan better how many doctors to call. So, we could test how good is the model at predicting the total number of people that will arrive any given day."
   ]
  }
 ],
 "metadata": {
  "kernelspec": {
   "display_name": "Python 3",
   "language": "python",
   "name": "python3"
  },
  "language_info": {
   "codemirror_mode": {
    "name": "ipython",
    "version": 3
   },
   "file_extension": ".py",
   "mimetype": "text/x-python",
   "name": "python",
   "nbconvert_exporter": "python",
   "pygments_lexer": "ipython3",
   "version": "3.8.3"
  }
 },
 "nbformat": 4,
 "nbformat_minor": 2
}
