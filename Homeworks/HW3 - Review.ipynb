{
 "cells": [
  {
   "cell_type": "code",
   "execution_count": null,
   "metadata": {
    "scrolled": true
   },
   "outputs": [],
   "source": [
    "#If opening in colab run this cell\n",
    "!git clone https://github.com/bwolfson2/foster_in_dev\n",
    "%cd foster_in_dev/Homeworks"
   ]
  },
  {
   "cell_type": "markdown",
   "metadata": {},
   "source": [
    "# IF OPENING IN COLAB, PLEASE REMEMBER TO SAVE THE NOTEBOOK TO YOUR GOOGLE DRIVE"
   ]
  },
  {
   "cell_type": "markdown",
   "metadata": {},
   "source": [
    "To open notebook in Colab please click below:\n",
    "\n",
    "<a href=\"https://colab.research.google.com/github/bwolfson2/foster_in_dev/blob/master/Homeworks/Homework%203.ipynb\" target=\"_parent\"> <img src=\"https://colab.research.google.com/assets/colab-badge.svg\" alt=\"Open In Colab\" /> </a>'"
   ]
  },
  {
   "cell_type": "markdown",
   "metadata": {},
   "source": [
    "# Predicting Churn\n",
    "\n",
    "After discussing the churn problem at TelCo with Henrietta for a while (remember, from your pre-class assignment?), you've finally defined an adequate target variable for churn and gathered relevant data to predict it. Moreover, the marketing department has come up with an amazing retention offer: the offer is guaranteed to convince customers to extend their contract for an extra year after receiving it. Unfortunately, the offer is quite expensive; it costs $200. \n",
    "\n",
    "You've been authorized to give the retention offer to up to 25% of the customers whose contract is expiring. It is your job to use data from previous contract expirations to build a churn predictive model and make a recommendation of whom to target with the offers. The historical data includes:\n",
    "\n",
    "- Gender: Whether the customer is a male or a female\n",
    "- SeniorCitizen: Whether the customer is a senior citizen or not (1, 0)\n",
    "- Partner: Whether the customer has a partner or not (Yes, No)\n",
    "- Dependents: Whether the customer has dependents or not (Yes, No)\n",
    "- tenure: Number of months the customer has stayed with the company\n",
    "- PhoneService: Whether the customer has a phone service or not (Yes, No)\n",
    "- MultipleLines: Whether the customer has multiple lines or not (Yes, No, No phone service)\n",
    "- InternetService: Customer’s internet service provider (DSL, Fiber optic, No)\n",
    "- OnlineSecurity: Whether the customer has online security or not (Yes, No, No internet service)\n",
    "- OnlineBackup: Whether the customer has online backup or not (Yes, No, No internet service)\n",
    "- DeviceProtection: Whether the customer has device protection or not (Yes, No, No internet service)\n",
    "- TechSupport: Whether the customer has tech support or not (Yes, No, No internet service)\n",
    "- StreamingTV: Whether the customer has streaming TV or not (Yes, No, No internet service)\n",
    "- StreamingMovies: Whether the customer has streaming movies or not (Yes, No, No internet service)\n",
    "- Contract: The contract term of the customer (Month-to-month, One year, Two year)\n",
    "- PaperlessBilling: Whether the customer has paperless billing or not (Yes, No)\n",
    "- PaymentMethod: The customer’s payment method (Electronic check, Mailed check, Bank transfer (automatic), Credit card (automatic))\n",
    "- MonthlyCharges: The amount charged to the customer monthly\n",
    "- Churn: Whether the customer churned or not shortly after contract expiration (Yes or No)"
   ]
  },
  {
   "cell_type": "markdown",
   "metadata": {},
   "source": [
    "__1. Load the churn data. The code below will also transform your categorical variables into dummy variables. No points for this. This is just meant to help you get started.__"
   ]
  },
  {
   "cell_type": "code",
   "execution_count": 2,
   "metadata": {},
   "outputs": [],
   "source": [
    "import numpy as np\n",
    "import pandas as pd\n",
    "\n",
    "# Just change the path below so that it points to your file.\n",
    "data_path = \"./data/data-hw3.csv\" \n",
    "\n",
    "df = pd.read_csv(data_path)\n",
    "df = pd.get_dummies(df, drop_first=True)"
   ]
  },
  {
   "cell_type": "code",
   "execution_count": 3,
   "metadata": {},
   "outputs": [
    {
     "data": {
      "text/plain": [
       "(7032, 30)"
      ]
     },
     "execution_count": 3,
     "metadata": {},
     "output_type": "execute_result"
    }
   ],
   "source": [
    "df.shape"
   ]
  },
  {
   "cell_type": "markdown",
   "metadata": {},
   "source": [
    "__2. Split the data into 80% training data and 20% test data.__"
   ]
  },
  {
   "cell_type": "code",
   "execution_count": 5,
   "metadata": {},
   "outputs": [],
   "source": [
    "# Your code goes here\n",
    "from sklearn.model_selection import train_test_split\n",
    "df_train,df_test = train_test_split(df,test_size =.2, random_state=42)"
   ]
  },
  {
   "cell_type": "markdown",
   "metadata": {},
   "source": [
    "__3. Build the best model you can for each of the following three model types:__\n",
    "- __A decision tree classifier. Try different values for the parameter min_samples_leaf.__\n",
    "- __A logistic regression. Try different values for the parameter C.__\n",
    "- __A third model of your choice. Some suggestions: KNN, SVM, etc. Try different paramater values for this one too.__\n",
    "\n",
    "__Optimize in terms of their generalization performance using ROC Area and cross-validation with 10 folds. Remember to use only the training data (do not use the test data at all for this example). For each of these model types, you should report the best parameter value you found and the corresponding ROC Area in the cross-validation. Your code should also show the process you went through to try different complexity parameter(s) for each model type. Pick one model to move forward with. Why did you select this one?__\n",
    "\n",
    "__HINT: There is an example below of the ROC Area for a DecisionTreeClassifier using cross validation.__  "
   ]
  },
  {
   "cell_type": "code",
   "execution_count": 8,
   "metadata": {},
   "outputs": [],
   "source": [
    "# The code below is just meant as an example for you to compute the ROC Area using cross validation.\n",
    "np.p\n",
    "from sklearn.tree import DecisionTreeClassifier\n",
    "from sklearn.model_selection import cross_val_score\n",
    "np.random.seed(2)\n",
    "target = \"Churn_Yes\"\n",
    "predictors = df.columns[df.columns != target]\n",
    "example_model = DecisionTreeClassifier()\n",
    "# Remember to only use the training data here!!\n",
    "avg_auc = cross_val_score(example_model, df[predictors], df[target], cv=10, scoring=\"roc_auc\").mean()\n",
    "\n",
    "# def pick_decision_tree(min_samples_leaf_array):\n",
    "#     for "
   ]
  },
  {
   "cell_type": "code",
   "execution_count": 60,
   "metadata": {},
   "outputs": [
    {
     "data": {
      "text/plain": [
       "array([ 1,  2,  3,  4,  5,  6,  7,  8,  9, 10, 11, 12, 13, 14, 15, 16, 17,\n",
       "       18, 19, 20])"
      ]
     },
     "execution_count": 60,
     "metadata": {},
     "output_type": "execute_result"
    }
   ],
   "source": [
    "np.arange()"
   ]
  },
  {
   "cell_type": "code",
   "execution_count": 4,
   "metadata": {
    "collapsed": true
   },
   "outputs": [],
   "source": [
    "# Your code goes here"
   ]
  },
  {
   "cell_type": "markdown",
   "metadata": {},
   "source": [
    "__4. Use your test data to plot the ROC Curves for each of the three best models you found in the previous question (make sure to plot the three curves together). Would you consider changing the selected model after looking at the curves? If yes, explain why. If not, explain what would the curves need to look like for you to consider changing the selected model.__\n",
    "\n",
    "__HINT: There is an example below of the ROC curve for the DecisionTreeClassifier that was used earlier__"
   ]
  },
  {
   "cell_type": "code",
   "execution_count": 10,
   "metadata": {},
   "outputs": [
    {
     "data": {
      "image/png": "[encoded data removed]",
      "text/plain": [
       "<Figure size 432x288 with 1 Axes>"
      ]
     },
     "metadata": {
      "needs_background": "light"
     },
     "output_type": "display_data"
    }
   ],
   "source": [
    "# The code below is just meant as an example for you to plot the ROC curve.\n",
    "from sklearn.metrics import roc_curve\n",
    "import matplotlib.pyplot as plt\n",
    "\n",
    "# Remember to use the training data here!! \n",
    "example_model.fit(df[predictors], df[target])\n",
    "# And to use the test data here!!\n",
    "probs = example_model.predict_proba(df[predictors])[:, 1]\n",
    "fpr, tpr, thresholds = roc_curve(df[target], probs)\n",
    "plt.plot(fpr, tpr, label=\"An Example\")\n",
    "plt.ylabel(\"True positive rate\")\n",
    "plt.xlabel(\"False positive rate\")\n",
    "plt.legend()\n",
    "plt.show()"
   ]
  },
  {
   "cell_type": "code",
   "execution_count": 81,
   "metadata": {},
   "outputs": [
    {
     "name": "stdout",
     "output_type": "stream",
     "text": [
      "sorted_calories_idx: [1 2 3 5 4 0]\n",
      "fruit_sorted: ['Orange' 'Banana' 'Pineapple' 'Lychee' 'Passion Fruit' 'Apple']\n"
     ]
    }
   ],
   "source": [
    "# Your code goes here \n",
    "calories = np.array([100,3,4,6,10,8])\n",
    "fruit = np.array([\"Apple\",\"Orange\",\"Banana\",\"Pineapple\",\"Passion Fruit\",\"Lychee\"])\n",
    "sorted_calories_idx = np.argsort(calories)\n",
    "print(f\"sorted_calories_idx: {sorted_calories_idx}\")\n",
    "print(f\"fruit_sorted: {fruit[sorted_calories_idx]}\")\n",
    "#for i in sorted_calories_idx:\n",
    "#    print(fruit[i])"
   ]
  },
  {
   "cell_type": "markdown",
   "metadata": {},
   "source": [
    "__5. What would be the potential benefit of stopping someone from leaving? HINT: Take a look at the description of the data and the retention offer.__"
   ]
  },
  {
   "cell_type": "markdown",
   "metadata": {},
   "source": [
    "Put your answer here using Markdown."
   ]
  },
  {
   "cell_type": "markdown",
   "metadata": {},
   "source": [
    "__6. Split your training data into two sets, one with 90% of the data (the \"sub-training\" set) and another with 10% of the data (the validation set). Train the model you selected with the \"sub-training\" set, apply it to the validation set, and plot a profit curve by ranking customers according to their probability of churning. Make a recommendation of what people to target with the retention incentive according to this profit curve.__"
   ]
  },
  {
   "cell_type": "code",
   "execution_count": 19,
   "metadata": {},
   "outputs": [],
   "source": [
    "# Your code goes here\n",
    "from sklearn.linear_model import LogisticRegression\n",
    "lr = LogisticRegression(C = 1,max_iter = 10000)\n",
    "df_sub_train,df_val = train_test_split(df_train,test_size = .1)"
   ]
  },
  {
   "cell_type": "code",
   "execution_count": 17,
   "metadata": {},
   "outputs": [],
   "source": [
    "Xs = df_sub_train[df_sub_train.columns[df_sub_train.columns != target]]\n",
    "Ys = df_sub_train[target]\n",
    "Xv = df_val[df_val.columns[df_val.columns != target]]\n",
    "Yv = df_val[target]\n"
   ]
  },
  {
   "cell_type": "code",
   "execution_count": 20,
   "metadata": {},
   "outputs": [
    {
     "data": {
      "text/plain": [
       "LogisticRegression(C=1, class_weight=None, dual=False, fit_intercept=True,\n",
       "                   intercept_scaling=1, l1_ratio=None, max_iter=10000,\n",
       "                   multi_class='auto', n_jobs=None, penalty='l2',\n",
       "                   random_state=None, solver='lbfgs', tol=0.0001, verbose=0,\n",
       "                   warm_start=False)"
      ]
     },
     "execution_count": 20,
     "metadata": {},
     "output_type": "execute_result"
    }
   ],
   "source": [
    "lr.fit(Xs,Ys)"
   ]
  },
  {
   "cell_type": "code",
   "execution_count": 21,
   "metadata": {},
   "outputs": [],
   "source": [
    "# Value that would be lost due to churn.\n",
    "retention_cost = 200\n",
    "# Offer value per customer\n",
    "offer_value = data[target] * data.MonthlyCharges * 12 - retention_cost"
   ]
  },
  {
   "cell_type": "code",
   "execution_count": 39,
   "metadata": {},
   "outputs": [],
   "source": [
    "churn_probs = lr.predict_proba(Xv)[:,1] #probability of churning\n",
    "order = np.argsort(churn_probs) # reverse order so flip\n",
    "order = np.flip(order)\n",
    "# Value that would be lost due to churn.\n",
    "retention_cost = 200\n",
    "# Offer value per customer\n",
    "offer_value = Yv * Xv.MonthlyCharges * 12 - retention_cost #the atual results"
   ]
  },
  {
   "cell_type": "code",
   "execution_count": 53,
   "metadata": {},
   "outputs": [
    {
     "data": {
      "text/plain": [
       "[<matplotlib.lines.Line2D at 0x1207f3250>]"
      ]
     },
     "execution_count": 53,
     "metadata": {},
     "output_type": "execute_result"
    },
    {
     "data": {
      "image/png": "[encoded data removed]",
      "text/plain": [
       "<Figure size 432x288 with 1 Axes>"
      ]
     },
     "metadata": {
      "needs_background": "light"
     },
     "output_type": "display_data"
    }
   ],
   "source": [
    "import matplotlib.pyplot as plt\n",
    "ordered_offer_value = offer_value.values[order]\n",
    "total = np.cumsum(ordered_offer_value)\n",
    "#plt.plot(total)\n",
    "idxs = np.arange(len(ordered_offer_value)) + 1\n",
    "p_idxs = idxs/len(idxs)\n",
    "plt.plot(p_idxs,total)"
   ]
  },
  {
   "cell_type": "markdown",
   "metadata": {},
   "source": [
    "__7. Can you think of something better than ranking according to the probability of churning? If so, tell us what it is and plot a profit curve according to this new ranking. Compare the results of the new ranking with the results you got in the previous question. Are the results any better? Would your recommendation change?__"
   ]
  },
  {
   "cell_type": "code",
   "execution_count": 8,
   "metadata": {
    "collapsed": true
   },
   "outputs": [],
   "source": [
    "# Your code goes here\n",
    "#On the validation set\n",
    "# 1,0 \n",
    "(1 if churned, 0 if not)*revenue - cost\n",
    "offer_value = validation_set[\"Churn_Yes\"] * data.MonthlyCharges * 12 - retention_cost"
   ]
  },
  {
   "cell_type": "markdown",
   "metadata": {},
   "source": [
    "__8. Now the you have chosen a model and a threshold, it is time to evaluate the potential impact of your solution. Use the entire training data to train the model you selected, and then use the model on the test data to decide which customers to target with a retention offer. How much money do you estimate that your recommendation would have saved if we had given the retention offer to the customers in the test data?__"
   ]
  },
  {
   "cell_type": "code",
   "execution_count": 9,
   "metadata": {
    "collapsed": true
   },
   "outputs": [],
   "source": [
    "# Your code goes here"
   ]
  }
 ],
 "metadata": {
  "kernelspec": {
   "display_name": "Python 3",
   "language": "python",
   "name": "python3"
  },
  "language_info": {
   "codemirror_mode": {
    "name": "ipython",
    "version": 3
   },
   "file_extension": ".py",
   "mimetype": "text/x-python",
   "name": "python",
   "nbconvert_exporter": "python",
   "pygments_lexer": "ipython3",
   "version": "3.6.5"
  }
 },
 "nbformat": 4,
 "nbformat_minor": 2
}
