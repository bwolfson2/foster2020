{
  "nbformat": 4,
  "nbformat_minor": 0,
  "metadata": {
    "colab": {
      "name": "Dealing with data FP-2-9-21.ipynb",
      "provenance": [],
      "collapsed_sections": []
    },
    "kernelspec": {
      "display_name": "Python 3",
      "language": "python",
      "name": "python3"
    },
    "language_info": {
      "codemirror_mode": {
        "name": "ipython",
        "version": 3
      },
      "file_extension": ".py",
      "mimetype": "text/x-python",
      "name": "python",
      "nbconvert_exporter": "python",
      "pygments_lexer": "ipython3",
      "version": "3.8.5"
    }
  },
  "cells": [
    {
      "cell_type": "markdown",
      "metadata": {
        "id": "86jCGuhoUjL3"
      },
      "source": [
        "To open notebook in Colab please click below:\n",
        "<a href=\"https://colab.research.google.com/github/bwolfson2/foster_in_dev/blob/master/Module1_Bash_Pandas/Dealing%20with%20data%20FP-2-8.ipynb\" target=\"_parent\"> <img src=\"https://colab.research.google.com/assets/colab-badge.svg\" alt=\"Open In Colab\" /> </a>'"
      ]
    },
    {
      "cell_type": "code",
      "metadata": {
        "collapsed": true,
        "id": "7hZ_P551UjMB",
        "colab": {
          "base_uri": "https://localhost:8080/"
        },
        "outputId": "c722461d-d4bf-4555-ef4e-5d3ca294ed77"
      },
      "source": [
        "#If opening in colab run this cell\n",
        "!git clone https://github.com/bwolfson2/foster_in_dev\n",
        "%cd foster_in_dev/Module1_Bash_Pandas/"
      ],
      "execution_count": 1,
      "outputs": [
        {
          "output_type": "stream",
          "text": [
            "Cloning into 'foster_in_dev'...\n",
            "remote: Enumerating objects: 354, done.\u001b[K\n",
            "remote: Counting objects: 100% (354/354), done.\u001b[K\n",
            "remote: Compressing objects: 100% (272/272), done.\u001b[K\n",
            "remote: Total 463 (delta 156), reused 257 (delta 75), pack-reused 109\u001b[K\n",
            "Receiving objects: 100% (463/463), 61.75 MiB | 20.94 MiB/s, done.\n",
            "Resolving deltas: 100% (195/195), done.\n",
            "Checking out files: 100% (69/69), done.\n",
            "/content/foster_in_dev/Module1_Bash_Pandas\n"
          ],
          "name": "stdout"
        }
      ]
    },
    {
      "cell_type": "markdown",
      "metadata": {
        "id": "usrd5IerUjMX"
      },
      "source": [
        "# Python and Pandas Data Frames\n",
        "\n",
        "\n",
        "Spring 2021 - Instructors: Foster Provost and Ben Wolfson\n",
        "\n",
        "Teaching Assistant: Ben Wolfson\n",
        "\n",
        "***"
      ]
    },
    {
      "cell_type": "markdown",
      "metadata": {
        "id": "HIXpcJR6UjMa"
      },
      "source": [
        "## Python Packages and Built-in Functions"
      ]
    },
    {
      "cell_type": "markdown",
      "metadata": {
        "id": "0BtnrGyFUjMe"
      },
      "source": [
        "Python has a ton of packages that make doing complicated stuff very easy. We won't discuss how to install packages, or give a detailed list of what packages exist, but we will give a brief description about how they are used. \n",
        "\n",
        "An easy way to think of why package are useful is by thinking: \"**Python packages give us access to MANY functions**\".\n",
        "\n",
        "Packages contain pre-defined functions (built-in) that make our life easier!  We've seen pre-defined functions before, for example, the funciton 'str()' that we used to convert numbers into strings in the Python Basics notebook.\n",
        "\n",
        "In this class we will use five packages very frequently: `pandas`, `sklearn`, `matplotlib`,  `seaborn`, and `numpy`:\n",
        "\n",
        "- **`pandas`** is a data manipulation package. It lets us store data in data frames. More on this soon.\n",
        "- **`sklearn`** is a machine learning and data science package. It lets us do fairly complicated machine learning tasks, such as running regressions and building classification models with only a few lines of code. (Nice!)\n",
        "- **`matplotlib`** lets you make plots and graphs directly from your code.  This can be a secret weapon when combined with notebooks, as you can very easily rerun analyses on different data or with slightly different code, and the graphs can just appear magically.  (Ok, always easier said than done, but you get the idea.)\n",
        "- **`seaborn`** an extension to matplotlib that really helps make your plots look more appealing\n",
        "- **`numpy`** (pronounced num-pie) is used for doing \"math stuff\", such as complex mathematical operations (e.g., square roots, exponents, logs), operations on matrices, and more. \n",
        "\n",
        "As we use these through the semester, their usefulness will become increasingly apparent."
      ]
    },
    {
      "cell_type": "markdown",
      "metadata": {
        "id": "Is5RUrTdUjMi"
      },
      "source": [
        "To make the contents of a package available, you need to import it:"
      ]
    },
    {
      "cell_type": "code",
      "metadata": {
        "collapsed": true,
        "id": "MjLdWQ_cUjMk"
      },
      "source": [
        "import pandas\n",
        "import sklearn\n",
        "import matplotlib\n",
        "import numpy\n",
        "import seaborn"
      ],
      "execution_count": 3,
      "outputs": []
    },
    {
      "cell_type": "markdown",
      "metadata": {
        "id": "pV9YPDLGUjMu"
      },
      "source": [
        "Sometimes it is easier to use short names for packages. This has become the norm now, so let's do it so that you recognize it if you encounter it in your work."
      ]
    },
    {
      "cell_type": "code",
      "metadata": {
        "collapsed": true,
        "id": "hlvpxc2mUjMx"
      },
      "source": [
        "import pandas as pd\n",
        "import numpy as np\n",
        "import matplotlib as plt\n",
        "import seaborn as sns\n",
        "\n",
        "# this trick is required to get plots to display inline with the rest of your notebook,\n",
        "# not in a separate window\n",
        "%matplotlib inline\n",
        "\n",
        "# just some stylistic tweaks for seaborn\n",
        "sns.set(style='ticks', palette='Set2')"
      ],
      "execution_count": 5,
      "outputs": []
    },
    {
      "cell_type": "markdown",
      "metadata": {
        "id": "-bXfdvvrUjM7"
      },
      "source": [
        "We can now use package-specific things. For example, numpy has a function called `sqrt()` which will give us the square root of a numpy number. Since it is part of numpy, we need to tell Python that that's where it is by using a dot (e.g., `np.sqrt()`).\n",
        "\n",
        "In the following cell you can also see how to write **comments** in your code. Take my advice: write comments as you go.  It's helpful when you want to collaborate, then you don't have to figure out what you did to explain it to your collaborator.  But even more: often you need to come back to an analysis weeks, months, or even years later, and you will thank yourself for explaining what you did!"
      ]
    },
    {
      "cell_type": "code",
      "metadata": {
        "collapsed": true,
        "id": "3DFEJWAZUjNI",
        "colab": {
          "base_uri": "https://localhost:8080/"
        },
        "outputId": "f01d8a25-4c84-4b3f-db9c-8e13bfe5c09f"
      },
      "source": [
        "\n",
        "some_list = [0,0,1,2,3,3,4.5,7.6]\n",
        "print(some_list)\n",
        "some_dictionary = {'student1': '(929)-000-0000', 'student2': '(917)-000-0000', 'student3': '(470)-000-0000'}\n",
        "print(some_dictionary)\n",
        "some_set = set( [1,2,4,4,5,5] )\n",
        "print(some_set)\n",
        "\n",
        "\n",
        "# In this part of the code I am using numpy (np) functions\n",
        "\n",
        "print (\"Square root: \" + str ( np.sqrt(25) ))\n",
        "print (\"Maximum element of our previous list: \" + str( np.max(some_list) ))\n",
        "\n",
        "# In this part of the code I am using python functions\n",
        "\n",
        "print (\"Number of elements in our previous list: \" + str( len(some_list) ))\n",
        "print (\"Sum of elements in our previous list: \" + str( sum(some_list) ))\n",
        "print (\"Range of 5 numbers (remember we start with 0): \" + str( range(5) ))\n",
        "\n",
        "# #Bonus LIST COMPREHENSIONS\n",
        "# some_list_squared = [i*i for i in some_list]\n",
        "# #This is the same as:\n",
        "# some_list_squared_too = []\n",
        "# for i in some_list:\n",
        "#     some_list_squared_too.append(i*i)\n",
        "\n",
        "# print(f\"some_list_squared: {some_list_squared} = some_list_squared_too:{some_list_squared_too}\")\n",
        "\n"
      ],
      "execution_count": 6,
      "outputs": [
        {
          "output_type": "stream",
          "text": [
            "[0, 0, 1, 2, 3, 3, 4.5, 7.6]\n",
            "{'student1': '(929)-000-0000', 'student2': '(917)-000-0000', 'student3': '(470)-000-0000'}\n",
            "{1, 2, 4, 5}\n",
            "Square root: 5.0\n",
            "Maximum element of our previous list: 7.6\n",
            "Number of elements in our previous list: 8\n",
            "Sum of elements in our previous list: 21.1\n",
            "Range of 5 numbers (remember we start with 0): range(0, 5)\n"
          ],
          "name": "stdout"
        }
      ]
    },
    {
      "cell_type": "markdown",
      "metadata": {
        "id": "pzDyXE8FUjNW"
      },
      "source": [
        "What about the package **Pandas**? \n",
        "\n",
        "Pandas gives us the **DATAFRAME** -- one of the main data structures used in data analytics.\n",
        "\n",
        "A Dataframe is 2-dimensional \"labeled\" data structure with columns of potentially different types. It is generally the most commonly used pandas object. Along with the data, you can optionally pass index (row labels) and columns (column labels) arguments. It's often convenient to think of it as a spreadsheet with super powers! [More details here](http://pandas.pydata.org/pandas-docs/stable/dsintro.html#dataframe)\n",
        "\n",
        "Pandas data frames can be constructed from most common data sources a data scientist will encounter: csv files, excel spreadsheets, sql databases, json, url pointers to other data sources, and even from other data already stored in one's python code. \n",
        "\n",
        "Let's take a look at creating a data frame from a common \"toy\" dataset presenting automobile mpg information.\n"
      ]
    },
    {
      "cell_type": "code",
      "metadata": {
        "collapsed": true,
        "id": "Cldu7Rx2UjNY"
      },
      "source": [
        "# This reads the data from a url and sets the column names.\n",
        "url = \"http://archive.ics.uci.edu/ml/machine-learning-databases/auto-mpg/auto-mpg.data-original\"\n",
        "column_names = ['mpg', 'cylinders', 'displacement', 'horsepower', 'weight', 'acceleration', 'model', 'origin', 'car_name']\n",
        "mpg_df = pd.read_csv(url, delim_whitespace=True, header=None, names=column_names)"
      ],
      "execution_count": 7,
      "outputs": []
    },
    {
      "cell_type": "markdown",
      "metadata": {
        "id": "eZN5QV4nUjNi"
      },
      "source": [
        "We now have the data loaded in a pandas data frame, as a starter, let's see some of the (MANY!) ways pandas makes it convenient to explore a dataset"
      ]
    },
    {
      "cell_type": "code",
      "metadata": {
        "collapsed": true,
        "id": "UT1XYkS3UjNk",
        "colab": {
          "base_uri": "https://localhost:8080/",
          "height": 206
        },
        "outputId": "1471ece7-4e0d-4849-fc97-b767af9ff047"
      },
      "source": [
        "# First, just get a peek at the data:\n",
        "mpg_df.head()"
      ],
      "execution_count": 8,
      "outputs": [
        {
          "output_type": "execute_result",
          "data": {
            "text/html": [
              "<div>\n",
              "<style scoped>\n",
              "    .dataframe tbody tr th:only-of-type {\n",
              "        vertical-align: middle;\n",
              "    }\n",
              "\n",
              "    .dataframe tbody tr th {\n",
              "        vertical-align: top;\n",
              "    }\n",
              "\n",
              "    .dataframe thead th {\n",
              "        text-align: right;\n",
              "    }\n",
              "</style>\n",
              "<table border=\"1\" class=\"dataframe\">\n",
              "  <thead>\n",
              "    <tr style=\"text-align: right;\">\n",
              "      <th></th>\n",
              "      <th>mpg</th>\n",
              "      <th>cylinders</th>\n",
              "      <th>displacement</th>\n",
              "      <th>horsepower</th>\n",
              "      <th>weight</th>\n",
              "      <th>acceleration</th>\n",
              "      <th>model</th>\n",
              "      <th>origin</th>\n",
              "      <th>car_name</th>\n",
              "    </tr>\n",
              "  </thead>\n",
              "  <tbody>\n",
              "    <tr>\n",
              "      <th>0</th>\n",
              "      <td>18.0</td>\n",
              "      <td>8.0</td>\n",
              "      <td>307.0</td>\n",
              "      <td>130.0</td>\n",
              "      <td>3504.0</td>\n",
              "      <td>12.0</td>\n",
              "      <td>70.0</td>\n",
              "      <td>1.0</td>\n",
              "      <td>chevrolet chevelle malibu</td>\n",
              "    </tr>\n",
              "    <tr>\n",
              "      <th>1</th>\n",
              "      <td>15.0</td>\n",
              "      <td>8.0</td>\n",
              "      <td>350.0</td>\n",
              "      <td>165.0</td>\n",
              "      <td>3693.0</td>\n",
              "      <td>11.5</td>\n",
              "      <td>70.0</td>\n",
              "      <td>1.0</td>\n",
              "      <td>buick skylark 320</td>\n",
              "    </tr>\n",
              "    <tr>\n",
              "      <th>2</th>\n",
              "      <td>18.0</td>\n",
              "      <td>8.0</td>\n",
              "      <td>318.0</td>\n",
              "      <td>150.0</td>\n",
              "      <td>3436.0</td>\n",
              "      <td>11.0</td>\n",
              "      <td>70.0</td>\n",
              "      <td>1.0</td>\n",
              "      <td>plymouth satellite</td>\n",
              "    </tr>\n",
              "    <tr>\n",
              "      <th>3</th>\n",
              "      <td>16.0</td>\n",
              "      <td>8.0</td>\n",
              "      <td>304.0</td>\n",
              "      <td>150.0</td>\n",
              "      <td>3433.0</td>\n",
              "      <td>12.0</td>\n",
              "      <td>70.0</td>\n",
              "      <td>1.0</td>\n",
              "      <td>amc rebel sst</td>\n",
              "    </tr>\n",
              "    <tr>\n",
              "      <th>4</th>\n",
              "      <td>17.0</td>\n",
              "      <td>8.0</td>\n",
              "      <td>302.0</td>\n",
              "      <td>140.0</td>\n",
              "      <td>3449.0</td>\n",
              "      <td>10.5</td>\n",
              "      <td>70.0</td>\n",
              "      <td>1.0</td>\n",
              "      <td>ford torino</td>\n",
              "    </tr>\n",
              "  </tbody>\n",
              "</table>\n",
              "</div>"
            ],
            "text/plain": [
              "    mpg  cylinders  displacement  ...  model  origin                   car_name\n",
              "0  18.0        8.0         307.0  ...   70.0     1.0  chevrolet chevelle malibu\n",
              "1  15.0        8.0         350.0  ...   70.0     1.0          buick skylark 320\n",
              "2  18.0        8.0         318.0  ...   70.0     1.0         plymouth satellite\n",
              "3  16.0        8.0         304.0  ...   70.0     1.0              amc rebel sst\n",
              "4  17.0        8.0         302.0  ...   70.0     1.0                ford torino\n",
              "\n",
              "[5 rows x 9 columns]"
            ]
          },
          "metadata": {
            "tags": []
          },
          "execution_count": 8
        }
      ]
    },
    {
      "cell_type": "code",
      "metadata": {
        "collapsed": true,
        "id": "lsRoaZNZUjNt",
        "colab": {
          "base_uri": "https://localhost:8080/",
          "height": 300
        },
        "outputId": "731aabd2-6caa-4581-878f-a2f4d5eca7ea"
      },
      "source": [
        "# Some general stats about the data\n",
        "mpg_df.describe()"
      ],
      "execution_count": 9,
      "outputs": [
        {
          "output_type": "execute_result",
          "data": {
            "text/html": [
              "<div>\n",
              "<style scoped>\n",
              "    .dataframe tbody tr th:only-of-type {\n",
              "        vertical-align: middle;\n",
              "    }\n",
              "\n",
              "    .dataframe tbody tr th {\n",
              "        vertical-align: top;\n",
              "    }\n",
              "\n",
              "    .dataframe thead th {\n",
              "        text-align: right;\n",
              "    }\n",
              "</style>\n",
              "<table border=\"1\" class=\"dataframe\">\n",
              "  <thead>\n",
              "    <tr style=\"text-align: right;\">\n",
              "      <th></th>\n",
              "      <th>mpg</th>\n",
              "      <th>cylinders</th>\n",
              "      <th>displacement</th>\n",
              "      <th>horsepower</th>\n",
              "      <th>weight</th>\n",
              "      <th>acceleration</th>\n",
              "      <th>model</th>\n",
              "      <th>origin</th>\n",
              "    </tr>\n",
              "  </thead>\n",
              "  <tbody>\n",
              "    <tr>\n",
              "      <th>count</th>\n",
              "      <td>398.000000</td>\n",
              "      <td>406.000000</td>\n",
              "      <td>406.000000</td>\n",
              "      <td>400.000000</td>\n",
              "      <td>406.000000</td>\n",
              "      <td>406.000000</td>\n",
              "      <td>406.000000</td>\n",
              "      <td>406.000000</td>\n",
              "    </tr>\n",
              "    <tr>\n",
              "      <th>mean</th>\n",
              "      <td>23.514573</td>\n",
              "      <td>5.475369</td>\n",
              "      <td>194.779557</td>\n",
              "      <td>105.082500</td>\n",
              "      <td>2979.413793</td>\n",
              "      <td>15.519704</td>\n",
              "      <td>75.921182</td>\n",
              "      <td>1.568966</td>\n",
              "    </tr>\n",
              "    <tr>\n",
              "      <th>std</th>\n",
              "      <td>7.815984</td>\n",
              "      <td>1.712160</td>\n",
              "      <td>104.922458</td>\n",
              "      <td>38.768779</td>\n",
              "      <td>847.004328</td>\n",
              "      <td>2.803359</td>\n",
              "      <td>3.748737</td>\n",
              "      <td>0.797479</td>\n",
              "    </tr>\n",
              "    <tr>\n",
              "      <th>min</th>\n",
              "      <td>9.000000</td>\n",
              "      <td>3.000000</td>\n",
              "      <td>68.000000</td>\n",
              "      <td>46.000000</td>\n",
              "      <td>1613.000000</td>\n",
              "      <td>8.000000</td>\n",
              "      <td>70.000000</td>\n",
              "      <td>1.000000</td>\n",
              "    </tr>\n",
              "    <tr>\n",
              "      <th>25%</th>\n",
              "      <td>17.500000</td>\n",
              "      <td>4.000000</td>\n",
              "      <td>105.000000</td>\n",
              "      <td>75.750000</td>\n",
              "      <td>2226.500000</td>\n",
              "      <td>13.700000</td>\n",
              "      <td>73.000000</td>\n",
              "      <td>1.000000</td>\n",
              "    </tr>\n",
              "    <tr>\n",
              "      <th>50%</th>\n",
              "      <td>23.000000</td>\n",
              "      <td>4.000000</td>\n",
              "      <td>151.000000</td>\n",
              "      <td>95.000000</td>\n",
              "      <td>2822.500000</td>\n",
              "      <td>15.500000</td>\n",
              "      <td>76.000000</td>\n",
              "      <td>1.000000</td>\n",
              "    </tr>\n",
              "    <tr>\n",
              "      <th>75%</th>\n",
              "      <td>29.000000</td>\n",
              "      <td>8.000000</td>\n",
              "      <td>302.000000</td>\n",
              "      <td>130.000000</td>\n",
              "      <td>3618.250000</td>\n",
              "      <td>17.175000</td>\n",
              "      <td>79.000000</td>\n",
              "      <td>2.000000</td>\n",
              "    </tr>\n",
              "    <tr>\n",
              "      <th>max</th>\n",
              "      <td>46.600000</td>\n",
              "      <td>8.000000</td>\n",
              "      <td>455.000000</td>\n",
              "      <td>230.000000</td>\n",
              "      <td>5140.000000</td>\n",
              "      <td>24.800000</td>\n",
              "      <td>82.000000</td>\n",
              "      <td>3.000000</td>\n",
              "    </tr>\n",
              "  </tbody>\n",
              "</table>\n",
              "</div>"
            ],
            "text/plain": [
              "              mpg   cylinders  ...       model      origin\n",
              "count  398.000000  406.000000  ...  406.000000  406.000000\n",
              "mean    23.514573    5.475369  ...   75.921182    1.568966\n",
              "std      7.815984    1.712160  ...    3.748737    0.797479\n",
              "min      9.000000    3.000000  ...   70.000000    1.000000\n",
              "25%     17.500000    4.000000  ...   73.000000    1.000000\n",
              "50%     23.000000    4.000000  ...   76.000000    1.000000\n",
              "75%     29.000000    8.000000  ...   79.000000    2.000000\n",
              "max     46.600000    8.000000  ...   82.000000    3.000000\n",
              "\n",
              "[8 rows x 8 columns]"
            ]
          },
          "metadata": {
            "tags": []
          },
          "execution_count": 9
        }
      ]
    },
    {
      "cell_type": "code",
      "metadata": {
        "collapsed": true,
        "id": "gSeLF6e1UjN1",
        "colab": {
          "base_uri": "https://localhost:8080/"
        },
        "outputId": "1e4983f0-4f9d-42bb-c46b-35d7acb66496"
      },
      "source": [
        "# Info about the rows and columns themselves\n",
        "mpg_df.info()"
      ],
      "execution_count": 10,
      "outputs": [
        {
          "output_type": "stream",
          "text": [
            "<class 'pandas.core.frame.DataFrame'>\n",
            "RangeIndex: 406 entries, 0 to 405\n",
            "Data columns (total 9 columns):\n",
            " #   Column        Non-Null Count  Dtype  \n",
            "---  ------        --------------  -----  \n",
            " 0   mpg           398 non-null    float64\n",
            " 1   cylinders     406 non-null    float64\n",
            " 2   displacement  406 non-null    float64\n",
            " 3   horsepower    400 non-null    float64\n",
            " 4   weight        406 non-null    float64\n",
            " 5   acceleration  406 non-null    float64\n",
            " 6   model         406 non-null    float64\n",
            " 7   origin        406 non-null    float64\n",
            " 8   car_name      406 non-null    object \n",
            "dtypes: float64(8), object(1)\n",
            "memory usage: 28.7+ KB\n"
          ],
          "name": "stdout"
        }
      ]
    },
    {
      "cell_type": "code",
      "metadata": {
        "collapsed": true,
        "id": "YHE8dNDwUjN_",
        "colab": {
          "base_uri": "https://localhost:8080/"
        },
        "outputId": "a13d1e6d-b6ec-4fd4-cac1-055d182ca41c"
      },
      "source": [
        "# How many of each type of engine? \n",
        "mpg_df[\"cylinders\"].value_counts()"
      ],
      "execution_count": 11,
      "outputs": [
        {
          "output_type": "execute_result",
          "data": {
            "text/plain": [
              "4.0    207\n",
              "8.0    108\n",
              "6.0     84\n",
              "3.0      4\n",
              "5.0      3\n",
              "Name: cylinders, dtype: int64"
            ]
          },
          "metadata": {
            "tags": []
          },
          "execution_count": 11
        }
      ]
    },
    {
      "cell_type": "code",
      "metadata": {
        "collapsed": true,
        "id": "Jnhx0F6mUjOH",
        "colab": {
          "base_uri": "https://localhost:8080/"
        },
        "outputId": "daa7ba32-e3ad-4581-f370-da7dcb6d2e94"
      },
      "source": [
        "# Total horsepower\n",
        "mpg_df[\"horsepower\"].sum()"
      ],
      "execution_count": 12,
      "outputs": [
        {
          "output_type": "execute_result",
          "data": {
            "text/plain": [
              "42033.0"
            ]
          },
          "metadata": {
            "tags": []
          },
          "execution_count": 12
        }
      ]
    },
    {
      "cell_type": "code",
      "metadata": {
        "collapsed": true,
        "id": "3AP4qIuvUjOO",
        "colab": {
          "base_uri": "https://localhost:8080/"
        },
        "outputId": "b7567d2e-fc75-4327-fd09-37bde6d40b7e"
      },
      "source": [
        "# Average horsepower per engine type\n",
        "mpg_df.groupby(\"cylinders\").horsepower.mean()"
      ],
      "execution_count": 13,
      "outputs": [
        {
          "output_type": "execute_result",
          "data": {
            "text/plain": [
              "cylinders\n",
              "3.0     99.250000\n",
              "4.0     78.470297\n",
              "5.0     82.333333\n",
              "6.0    101.506024\n",
              "8.0    158.453704\n",
              "Name: horsepower, dtype: float64"
            ]
          },
          "metadata": {
            "tags": []
          },
          "execution_count": 13
        }
      ]
    },
    {
      "cell_type": "code",
      "metadata": {
        "collapsed": true,
        "id": "6RptfbVLUjOV",
        "colab": {
          "base_uri": "https://localhost:8080/",
          "height": 319
        },
        "outputId": "4655d0df-29d8-4cbd-f9ca-745ad6bd7623"
      },
      "source": [
        "# Plot a histogram of mpg\n",
        "mpg_df.hist(\"mpg\")"
      ],
      "execution_count": 14,
      "outputs": [
        {
          "output_type": "execute_result",
          "data": {
            "text/plain": [
              "array([[<matplotlib.axes._subplots.AxesSubplot object at 0x7efcbe047898>]],\n",
              "      dtype=object)"
            ]
          },
          "metadata": {
            "tags": []
          },
          "execution_count": 14
        },
        {
          "output_type": "display_data",
          "data": {
            "image/png": "[encoded data removed]",
            "text/plain": [
              "<Figure size 432x288 with 1 Axes>"
            ]
          },
          "metadata": {
            "tags": []
          }
        }
      ]
    },
    {
      "cell_type": "code",
      "metadata": {
        "collapsed": true,
        "id": "u1mYhbsXUjOe",
        "colab": {
          "base_uri": "https://localhost:8080/",
          "height": 340
        },
        "outputId": "aec6c8dd-f4b2-4128-cf58-93b7637611c8"
      },
      "source": [
        "# Or a scatter plot of acceleration vs mpg\n",
        "mpg_df.plot(kind=\"scatter\", x=\"acceleration\", y=\"mpg\")"
      ],
      "execution_count": 15,
      "outputs": [
        {
          "output_type": "stream",
          "text": [
            "*c* argument looks like a single numeric RGB or RGBA sequence, which should be avoided as value-mapping will have precedence in case its length matches with *x* & *y*.  Please use the *color* keyword-argument or provide a 2-D array with a single row if you intend to specify the same RGB or RGBA value for all points.\n"
          ],
          "name": "stderr"
        },
        {
          "output_type": "execute_result",
          "data": {
            "text/plain": [
              "<matplotlib.axes._subplots.AxesSubplot at 0x7efcbdf3ada0>"
            ]
          },
          "metadata": {
            "tags": []
          },
          "execution_count": 15
        },
        {
          "output_type": "display_data",
          "data": {
            "image/png": "[encoded data removed]",
            "text/plain": [
              "<Figure size 432x288 with 1 Axes>"
            ]
          },
          "metadata": {
            "tags": []
          }
        }
      ]
    },
    {
      "cell_type": "code",
      "metadata": {
        "collapsed": true,
        "id": "IHXNULs7UjOk",
        "colab": {
          "base_uri": "https://localhost:8080/",
          "height": 509
        },
        "outputId": "a569c4f4-8270-418f-e1d6-a1b6b1df1b13"
      },
      "source": [
        "# Some pretty plotting comparing weight to mpg using regression in seaborn\n",
        "sns.jointplot(\"weight\", \"mpg\", mpg_df, kind=\"reg\")"
      ],
      "execution_count": 16,
      "outputs": [
        {
          "output_type": "stream",
          "text": [
            "/usr/local/lib/python3.6/dist-packages/seaborn/_decorators.py:43: FutureWarning: Pass the following variables as keyword args: x, y, data. From version 0.12, the only valid positional argument will be `data`, and passing other arguments without an explicit keyword will result in an error or misinterpretation.\n",
            "  FutureWarning\n"
          ],
          "name": "stderr"
        },
        {
          "output_type": "execute_result",
          "data": {
            "text/plain": [
              "<seaborn.axisgrid.JointGrid at 0x7efcbda06f28>"
            ]
          },
          "metadata": {
            "tags": []
          },
          "execution_count": 16
        },
        {
          "output_type": "display_data",
          "data": {
            "image/png": "[encoded data removed]",
            "text/plain": [
              "<Figure size 432x432 with 3 Axes>"
            ]
          },
          "metadata": {
            "tags": []
          }
        }
      ]
    },
    {
      "cell_type": "markdown",
      "metadata": {
        "id": "7y9QEGpxUjOs"
      },
      "source": [
        "Pandas is widely used and has a very active development community contributing new features. If there is some kind of analysis you want to do on your data, chances are, it already exists. The [documentation for the pandas library](https://pandas.pydata.org/pandas-docs/stable/) is very good, but the site's search functionality is, unfortunately, poor. Google is oftenn better to find the information you need.\n",
        "\n",
        "One important component of pandas is indexing and selecting components of the data. This is a extremely rich topic, so we'll only touch on it here. Please [consult the documentation](https://pandas.pydata.org/pandas-docs/stable/indexing.html) for more info. "
      ]
    },
    {
      "cell_type": "code",
      "metadata": {
        "collapsed": true,
        "id": "1TerOKbXUjOt",
        "colab": {
          "base_uri": "https://localhost:8080/",
          "height": 206
        },
        "outputId": "7218b981-3bc2-4e26-e05b-33353942a70b"
      },
      "source": [
        "# Columns can be selected using the `[]` operator, which accepts one column name or a list of several\n",
        "mpg_df[[\"cylinders\", \"car_name\"]].head(5)"
      ],
      "execution_count": 17,
      "outputs": [
        {
          "output_type": "execute_result",
          "data": {
            "text/html": [
              "<div>\n",
              "<style scoped>\n",
              "    .dataframe tbody tr th:only-of-type {\n",
              "        vertical-align: middle;\n",
              "    }\n",
              "\n",
              "    .dataframe tbody tr th {\n",
              "        vertical-align: top;\n",
              "    }\n",
              "\n",
              "    .dataframe thead th {\n",
              "        text-align: right;\n",
              "    }\n",
              "</style>\n",
              "<table border=\"1\" class=\"dataframe\">\n",
              "  <thead>\n",
              "    <tr style=\"text-align: right;\">\n",
              "      <th></th>\n",
              "      <th>cylinders</th>\n",
              "      <th>car_name</th>\n",
              "    </tr>\n",
              "  </thead>\n",
              "  <tbody>\n",
              "    <tr>\n",
              "      <th>0</th>\n",
              "      <td>8.0</td>\n",
              "      <td>chevrolet chevelle malibu</td>\n",
              "    </tr>\n",
              "    <tr>\n",
              "      <th>1</th>\n",
              "      <td>8.0</td>\n",
              "      <td>buick skylark 320</td>\n",
              "    </tr>\n",
              "    <tr>\n",
              "      <th>2</th>\n",
              "      <td>8.0</td>\n",
              "      <td>plymouth satellite</td>\n",
              "    </tr>\n",
              "    <tr>\n",
              "      <th>3</th>\n",
              "      <td>8.0</td>\n",
              "      <td>amc rebel sst</td>\n",
              "    </tr>\n",
              "    <tr>\n",
              "      <th>4</th>\n",
              "      <td>8.0</td>\n",
              "      <td>ford torino</td>\n",
              "    </tr>\n",
              "  </tbody>\n",
              "</table>\n",
              "</div>"
            ],
            "text/plain": [
              "   cylinders                   car_name\n",
              "0        8.0  chevrolet chevelle malibu\n",
              "1        8.0          buick skylark 320\n",
              "2        8.0         plymouth satellite\n",
              "3        8.0              amc rebel sst\n",
              "4        8.0                ford torino"
            ]
          },
          "metadata": {
            "tags": []
          },
          "execution_count": 17
        }
      ]
    },
    {
      "cell_type": "code",
      "metadata": {
        "collapsed": true,
        "id": "pcBGAzwVUjO0",
        "colab": {
          "base_uri": "https://localhost:8080/"
        },
        "outputId": "7d7e0bc4-6040-407a-efb8-590fd98c07f4"
      },
      "source": [
        "# As some \"syntactic sugar\", pandas also allows selection using the `.column_name` notation\n",
        "mpg_df.car_name.head()"
      ],
      "execution_count": 18,
      "outputs": [
        {
          "output_type": "execute_result",
          "data": {
            "text/plain": [
              "0    chevrolet chevelle malibu\n",
              "1            buick skylark 320\n",
              "2           plymouth satellite\n",
              "3                amc rebel sst\n",
              "4                  ford torino\n",
              "Name: car_name, dtype: object"
            ]
          },
          "metadata": {
            "tags": []
          },
          "execution_count": 18
        }
      ]
    },
    {
      "cell_type": "code",
      "metadata": {
        "collapsed": true,
        "id": "s3Is0PiHUjO7",
        "colab": {
          "base_uri": "https://localhost:8080/"
        },
        "outputId": "b7c9f895-bee5-4b69-8e03-05a179fd3379"
      },
      "source": [
        "# Note that this can also be used for assignment of values!\n",
        "original_names = mpg_df.car_name.copy()\n",
        "mpg_df.car_name = original_names + \" Test!\"\n",
        "print(mpg_df.car_name.head())\n",
        "mpg_df.car_name = original_names"
      ],
      "execution_count": 19,
      "outputs": [
        {
          "output_type": "stream",
          "text": [
            "0    chevrolet chevelle malibu Test!\n",
            "1            buick skylark 320 Test!\n",
            "2           plymouth satellite Test!\n",
            "3                amc rebel sst Test!\n",
            "4                  ford torino Test!\n",
            "Name: car_name, dtype: object\n"
          ],
          "name": "stdout"
        }
      ]
    },
    {
      "cell_type": "markdown",
      "metadata": {
        "id": "1RWvSo3sUjPB"
      },
      "source": [
        "For selecting rows from the data there are two options:\n",
        "- `.loc`: for selecting rows based on the _row label_\n",
        "- `.iloc`: for selecting rows based on the _row number_\n",
        "\n",
        "In the prior example, the row label and the row number are the same; often one wants to assign a label (a unique id) to each rows. In many cases, this would be something like a date or a user id. Note: these two selectors can also be used to pick columns, but that's a bit less common. "
      ]
    },
    {
      "cell_type": "code",
      "metadata": {
        "collapsed": true,
        "id": "XzPdOL9XUjPD",
        "colab": {
          "base_uri": "https://localhost:8080/"
        },
        "outputId": "cba5bff1-54f0-40f0-d2ee-28f4c79805d9"
      },
      "source": [
        "# Returns row #5 -- the 6th row.  NB: it returns one row as a column!\n",
        "mpg_df.iloc[5]"
      ],
      "execution_count": 20,
      "outputs": [
        {
          "output_type": "execute_result",
          "data": {
            "text/plain": [
              "mpg                           15\n",
              "cylinders                      8\n",
              "displacement                 429\n",
              "horsepower                   198\n",
              "weight                      4341\n",
              "acceleration                  10\n",
              "model                         70\n",
              "origin                         1\n",
              "car_name        ford galaxie 500\n",
              "Name: 5, dtype: object"
            ]
          },
          "metadata": {
            "tags": []
          },
          "execution_count": 20
        }
      ]
    },
    {
      "cell_type": "code",
      "metadata": {
        "collapsed": true,
        "id": "p-bL9Ls8UjPK",
        "colab": {
          "base_uri": "https://localhost:8080/",
          "height": 238
        },
        "outputId": "22a89870-d067-4469-e1b6-f0efdba92493"
      },
      "source": [
        "# Returns the first 6 rows\n",
        "mpg_df.iloc[:6]"
      ],
      "execution_count": 21,
      "outputs": [
        {
          "output_type": "execute_result",
          "data": {
            "text/html": [
              "<div>\n",
              "<style scoped>\n",
              "    .dataframe tbody tr th:only-of-type {\n",
              "        vertical-align: middle;\n",
              "    }\n",
              "\n",
              "    .dataframe tbody tr th {\n",
              "        vertical-align: top;\n",
              "    }\n",
              "\n",
              "    .dataframe thead th {\n",
              "        text-align: right;\n",
              "    }\n",
              "</style>\n",
              "<table border=\"1\" class=\"dataframe\">\n",
              "  <thead>\n",
              "    <tr style=\"text-align: right;\">\n",
              "      <th></th>\n",
              "      <th>mpg</th>\n",
              "      <th>cylinders</th>\n",
              "      <th>displacement</th>\n",
              "      <th>horsepower</th>\n",
              "      <th>weight</th>\n",
              "      <th>acceleration</th>\n",
              "      <th>model</th>\n",
              "      <th>origin</th>\n",
              "      <th>car_name</th>\n",
              "    </tr>\n",
              "  </thead>\n",
              "  <tbody>\n",
              "    <tr>\n",
              "      <th>0</th>\n",
              "      <td>18.0</td>\n",
              "      <td>8.0</td>\n",
              "      <td>307.0</td>\n",
              "      <td>130.0</td>\n",
              "      <td>3504.0</td>\n",
              "      <td>12.0</td>\n",
              "      <td>70.0</td>\n",
              "      <td>1.0</td>\n",
              "      <td>chevrolet chevelle malibu</td>\n",
              "    </tr>\n",
              "    <tr>\n",
              "      <th>1</th>\n",
              "      <td>15.0</td>\n",
              "      <td>8.0</td>\n",
              "      <td>350.0</td>\n",
              "      <td>165.0</td>\n",
              "      <td>3693.0</td>\n",
              "      <td>11.5</td>\n",
              "      <td>70.0</td>\n",
              "      <td>1.0</td>\n",
              "      <td>buick skylark 320</td>\n",
              "    </tr>\n",
              "    <tr>\n",
              "      <th>2</th>\n",
              "      <td>18.0</td>\n",
              "      <td>8.0</td>\n",
              "      <td>318.0</td>\n",
              "      <td>150.0</td>\n",
              "      <td>3436.0</td>\n",
              "      <td>11.0</td>\n",
              "      <td>70.0</td>\n",
              "      <td>1.0</td>\n",
              "      <td>plymouth satellite</td>\n",
              "    </tr>\n",
              "    <tr>\n",
              "      <th>3</th>\n",
              "      <td>16.0</td>\n",
              "      <td>8.0</td>\n",
              "      <td>304.0</td>\n",
              "      <td>150.0</td>\n",
              "      <td>3433.0</td>\n",
              "      <td>12.0</td>\n",
              "      <td>70.0</td>\n",
              "      <td>1.0</td>\n",
              "      <td>amc rebel sst</td>\n",
              "    </tr>\n",
              "    <tr>\n",
              "      <th>4</th>\n",
              "      <td>17.0</td>\n",
              "      <td>8.0</td>\n",
              "      <td>302.0</td>\n",
              "      <td>140.0</td>\n",
              "      <td>3449.0</td>\n",
              "      <td>10.5</td>\n",
              "      <td>70.0</td>\n",
              "      <td>1.0</td>\n",
              "      <td>ford torino</td>\n",
              "    </tr>\n",
              "    <tr>\n",
              "      <th>5</th>\n",
              "      <td>15.0</td>\n",
              "      <td>8.0</td>\n",
              "      <td>429.0</td>\n",
              "      <td>198.0</td>\n",
              "      <td>4341.0</td>\n",
              "      <td>10.0</td>\n",
              "      <td>70.0</td>\n",
              "      <td>1.0</td>\n",
              "      <td>ford galaxie 500</td>\n",
              "    </tr>\n",
              "  </tbody>\n",
              "</table>\n",
              "</div>"
            ],
            "text/plain": [
              "    mpg  cylinders  displacement  ...  model  origin                   car_name\n",
              "0  18.0        8.0         307.0  ...   70.0     1.0  chevrolet chevelle malibu\n",
              "1  15.0        8.0         350.0  ...   70.0     1.0          buick skylark 320\n",
              "2  18.0        8.0         318.0  ...   70.0     1.0         plymouth satellite\n",
              "3  16.0        8.0         304.0  ...   70.0     1.0              amc rebel sst\n",
              "4  17.0        8.0         302.0  ...   70.0     1.0                ford torino\n",
              "5  15.0        8.0         429.0  ...   70.0     1.0           ford galaxie 500\n",
              "\n",
              "[6 rows x 9 columns]"
            ]
          },
          "metadata": {
            "tags": []
          },
          "execution_count": 21
        }
      ]
    },
    {
      "cell_type": "markdown",
      "metadata": {
        "id": "vcPQal5WUjPO"
      },
      "source": [
        "If we have _actual labels_ as an index for a dataframe, we can use `.loc` to select using values from that index"
      ]
    },
    {
      "cell_type": "code",
      "metadata": {
        "collapsed": true,
        "id": "iuGMVYtfUjPR",
        "colab": {
          "base_uri": "https://localhost:8080/",
          "height": 206
        },
        "outputId": "270afc7c-b861-4b0d-fbc9-b822355c1dba"
      },
      "source": [
        "#Let's set the row label (index) to be the car name.  Note: these are not unique.\n",
        "car_index_df = mpg_df.set_index(\"car_name\", inplace=False)\n",
        "#Now, let's see what we have for a couple car names\n",
        "car_index_df.loc[[\"amc rebel sst\", \"plymouth fury iii\"]]"
      ],
      "execution_count": 22,
      "outputs": [
        {
          "output_type": "execute_result",
          "data": {
            "text/html": [
              "<div>\n",
              "<style scoped>\n",
              "    .dataframe tbody tr th:only-of-type {\n",
              "        vertical-align: middle;\n",
              "    }\n",
              "\n",
              "    .dataframe tbody tr th {\n",
              "        vertical-align: top;\n",
              "    }\n",
              "\n",
              "    .dataframe thead th {\n",
              "        text-align: right;\n",
              "    }\n",
              "</style>\n",
              "<table border=\"1\" class=\"dataframe\">\n",
              "  <thead>\n",
              "    <tr style=\"text-align: right;\">\n",
              "      <th></th>\n",
              "      <th>mpg</th>\n",
              "      <th>cylinders</th>\n",
              "      <th>displacement</th>\n",
              "      <th>horsepower</th>\n",
              "      <th>weight</th>\n",
              "      <th>acceleration</th>\n",
              "      <th>model</th>\n",
              "      <th>origin</th>\n",
              "    </tr>\n",
              "    <tr>\n",
              "      <th>car_name</th>\n",
              "      <th></th>\n",
              "      <th></th>\n",
              "      <th></th>\n",
              "      <th></th>\n",
              "      <th></th>\n",
              "      <th></th>\n",
              "      <th></th>\n",
              "      <th></th>\n",
              "    </tr>\n",
              "  </thead>\n",
              "  <tbody>\n",
              "    <tr>\n",
              "      <th>amc rebel sst</th>\n",
              "      <td>16.0</td>\n",
              "      <td>8.0</td>\n",
              "      <td>304.0</td>\n",
              "      <td>150.0</td>\n",
              "      <td>3433.0</td>\n",
              "      <td>12.0</td>\n",
              "      <td>70.0</td>\n",
              "      <td>1.0</td>\n",
              "    </tr>\n",
              "    <tr>\n",
              "      <th>plymouth fury iii</th>\n",
              "      <td>14.0</td>\n",
              "      <td>8.0</td>\n",
              "      <td>440.0</td>\n",
              "      <td>215.0</td>\n",
              "      <td>4312.0</td>\n",
              "      <td>8.5</td>\n",
              "      <td>70.0</td>\n",
              "      <td>1.0</td>\n",
              "    </tr>\n",
              "    <tr>\n",
              "      <th>plymouth fury iii</th>\n",
              "      <td>14.0</td>\n",
              "      <td>8.0</td>\n",
              "      <td>318.0</td>\n",
              "      <td>150.0</td>\n",
              "      <td>4096.0</td>\n",
              "      <td>13.0</td>\n",
              "      <td>71.0</td>\n",
              "      <td>1.0</td>\n",
              "    </tr>\n",
              "    <tr>\n",
              "      <th>plymouth fury iii</th>\n",
              "      <td>15.0</td>\n",
              "      <td>8.0</td>\n",
              "      <td>318.0</td>\n",
              "      <td>150.0</td>\n",
              "      <td>4135.0</td>\n",
              "      <td>13.5</td>\n",
              "      <td>72.0</td>\n",
              "      <td>1.0</td>\n",
              "    </tr>\n",
              "  </tbody>\n",
              "</table>\n",
              "</div>"
            ],
            "text/plain": [
              "                    mpg  cylinders  displacement  ...  acceleration  model  origin\n",
              "car_name                                          ...                             \n",
              "amc rebel sst      16.0        8.0         304.0  ...          12.0   70.0     1.0\n",
              "plymouth fury iii  14.0        8.0         440.0  ...           8.5   70.0     1.0\n",
              "plymouth fury iii  14.0        8.0         318.0  ...          13.0   71.0     1.0\n",
              "plymouth fury iii  15.0        8.0         318.0  ...          13.5   72.0     1.0\n",
              "\n",
              "[4 rows x 8 columns]"
            ]
          },
          "metadata": {
            "tags": []
          },
          "execution_count": 22
        }
      ]
    },
    {
      "cell_type": "markdown",
      "metadata": {
        "id": "2kFTLJgsUjPX"
      },
      "source": [
        "One can also select those rows that match a particular condition. Say I want to only see those rows that have an acceleration less that 10 seconds"
      ]
    },
    {
      "cell_type": "code",
      "metadata": {
        "collapsed": true,
        "id": "LrgE1B5zUjPZ",
        "colab": {
          "base_uri": "https://localhost:8080/",
          "height": 269
        },
        "outputId": "5b557915-20bd-4f30-bf84-3928357ca8f8"
      },
      "source": [
        "mpg_df[mpg_df.acceleration < 10]  #some of the classic muscle cars"
      ],
      "execution_count": 23,
      "outputs": [
        {
          "output_type": "execute_result",
          "data": {
            "text/html": [
              "<div>\n",
              "<style scoped>\n",
              "    .dataframe tbody tr th:only-of-type {\n",
              "        vertical-align: middle;\n",
              "    }\n",
              "\n",
              "    .dataframe tbody tr th {\n",
              "        vertical-align: top;\n",
              "    }\n",
              "\n",
              "    .dataframe thead th {\n",
              "        text-align: right;\n",
              "    }\n",
              "</style>\n",
              "<table border=\"1\" class=\"dataframe\">\n",
              "  <thead>\n",
              "    <tr style=\"text-align: right;\">\n",
              "      <th></th>\n",
              "      <th>mpg</th>\n",
              "      <th>cylinders</th>\n",
              "      <th>displacement</th>\n",
              "      <th>horsepower</th>\n",
              "      <th>weight</th>\n",
              "      <th>acceleration</th>\n",
              "      <th>model</th>\n",
              "      <th>origin</th>\n",
              "      <th>car_name</th>\n",
              "    </tr>\n",
              "  </thead>\n",
              "  <tbody>\n",
              "    <tr>\n",
              "      <th>6</th>\n",
              "      <td>14.0</td>\n",
              "      <td>8.0</td>\n",
              "      <td>454.0</td>\n",
              "      <td>220.0</td>\n",
              "      <td>4354.0</td>\n",
              "      <td>9.0</td>\n",
              "      <td>70.0</td>\n",
              "      <td>1.0</td>\n",
              "      <td>chevrolet impala</td>\n",
              "    </tr>\n",
              "    <tr>\n",
              "      <th>7</th>\n",
              "      <td>14.0</td>\n",
              "      <td>8.0</td>\n",
              "      <td>440.0</td>\n",
              "      <td>215.0</td>\n",
              "      <td>4312.0</td>\n",
              "      <td>8.5</td>\n",
              "      <td>70.0</td>\n",
              "      <td>1.0</td>\n",
              "      <td>plymouth fury iii</td>\n",
              "    </tr>\n",
              "    <tr>\n",
              "      <th>9</th>\n",
              "      <td>15.0</td>\n",
              "      <td>8.0</td>\n",
              "      <td>390.0</td>\n",
              "      <td>190.0</td>\n",
              "      <td>3850.0</td>\n",
              "      <td>8.5</td>\n",
              "      <td>70.0</td>\n",
              "      <td>1.0</td>\n",
              "      <td>amc ambassador dpl</td>\n",
              "    </tr>\n",
              "    <tr>\n",
              "      <th>16</th>\n",
              "      <td>14.0</td>\n",
              "      <td>8.0</td>\n",
              "      <td>340.0</td>\n",
              "      <td>160.0</td>\n",
              "      <td>3609.0</td>\n",
              "      <td>8.0</td>\n",
              "      <td>70.0</td>\n",
              "      <td>1.0</td>\n",
              "      <td>plymouth 'cuda 340</td>\n",
              "    </tr>\n",
              "    <tr>\n",
              "      <th>17</th>\n",
              "      <td>NaN</td>\n",
              "      <td>8.0</td>\n",
              "      <td>302.0</td>\n",
              "      <td>140.0</td>\n",
              "      <td>3353.0</td>\n",
              "      <td>8.0</td>\n",
              "      <td>70.0</td>\n",
              "      <td>1.0</td>\n",
              "      <td>ford mustang boss 302</td>\n",
              "    </tr>\n",
              "    <tr>\n",
              "      <th>18</th>\n",
              "      <td>15.0</td>\n",
              "      <td>8.0</td>\n",
              "      <td>400.0</td>\n",
              "      <td>150.0</td>\n",
              "      <td>3761.0</td>\n",
              "      <td>9.5</td>\n",
              "      <td>70.0</td>\n",
              "      <td>1.0</td>\n",
              "      <td>chevrolet monte carlo</td>\n",
              "    </tr>\n",
              "    <tr>\n",
              "      <th>123</th>\n",
              "      <td>16.0</td>\n",
              "      <td>8.0</td>\n",
              "      <td>400.0</td>\n",
              "      <td>230.0</td>\n",
              "      <td>4278.0</td>\n",
              "      <td>9.5</td>\n",
              "      <td>73.0</td>\n",
              "      <td>1.0</td>\n",
              "      <td>pontiac grand prix</td>\n",
              "    </tr>\n",
              "  </tbody>\n",
              "</table>\n",
              "</div>"
            ],
            "text/plain": [
              "      mpg  cylinders  displacement  ...  model  origin               car_name\n",
              "6    14.0        8.0         454.0  ...   70.0     1.0       chevrolet impala\n",
              "7    14.0        8.0         440.0  ...   70.0     1.0      plymouth fury iii\n",
              "9    15.0        8.0         390.0  ...   70.0     1.0     amc ambassador dpl\n",
              "16   14.0        8.0         340.0  ...   70.0     1.0     plymouth 'cuda 340\n",
              "17    NaN        8.0         302.0  ...   70.0     1.0  ford mustang boss 302\n",
              "18   15.0        8.0         400.0  ...   70.0     1.0  chevrolet monte carlo\n",
              "123  16.0        8.0         400.0  ...   73.0     1.0     pontiac grand prix\n",
              "\n",
              "[7 rows x 9 columns]"
            ]
          },
          "metadata": {
            "tags": []
          },
          "execution_count": 23
        }
      ]
    },
    {
      "cell_type": "markdown",
      "metadata": {
        "id": "AJehQKivUjPf"
      },
      "source": [
        "Often, one wants to create a data frame from information that is available \"in code\"- these might be results of prior computations that aren't already in pandas or maybe just some small static dataframe that stores some info. There are two common ways to do this: (1) lists-of-lists with an additional list of column names and (2) lists of dictionaries. I prefer the latter since the data in this case is self-descriptive, order isn't important, and missing data is handled more smoothly, but I'll give examples below for both. "
      ]
    },
    {
      "cell_type": "code",
      "metadata": {
        "collapsed": true,
        "id": "ALoIIuK7UjPh",
        "colab": {
          "base_uri": "https://localhost:8080/",
          "height": 206
        },
        "outputId": "5d7417d7-0175-4f61-b505-4b518fa72e3a"
      },
      "source": [
        "# List-of-lists approach\n",
        "\n",
        "list1 = ['studentA',22,'(929)-000-000']\n",
        "list2 = ['studentB',np.nan,'(646)-000-000']\n",
        "list3 = ['studentC',30,'(917)-000-000']\n",
        "list4 = ['studentD',31,'(646)-001-001']\n",
        "list5 = ['studentE',np.nan,'(929)-001-001']\n",
        "list6 = ['studentF',30,'(917)-001-001']\n",
        "list7 = ['studentG',30,'(470)-001-001']\n",
        "\n",
        "list_of_lists = [list1, list2, list3, list4, list5, list6, list7]\n",
        "column_names = ['Name','Age','Mobile']\n",
        "\n",
        "lol_df = pd.DataFrame(list_of_lists,columns=column_names)\n",
        "lol_df.head(5)"
      ],
      "execution_count": 24,
      "outputs": [
        {
          "output_type": "execute_result",
          "data": {
            "text/html": [
              "<div>\n",
              "<style scoped>\n",
              "    .dataframe tbody tr th:only-of-type {\n",
              "        vertical-align: middle;\n",
              "    }\n",
              "\n",
              "    .dataframe tbody tr th {\n",
              "        vertical-align: top;\n",
              "    }\n",
              "\n",
              "    .dataframe thead th {\n",
              "        text-align: right;\n",
              "    }\n",
              "</style>\n",
              "<table border=\"1\" class=\"dataframe\">\n",
              "  <thead>\n",
              "    <tr style=\"text-align: right;\">\n",
              "      <th></th>\n",
              "      <th>Name</th>\n",
              "      <th>Age</th>\n",
              "      <th>Mobile</th>\n",
              "    </tr>\n",
              "  </thead>\n",
              "  <tbody>\n",
              "    <tr>\n",
              "      <th>0</th>\n",
              "      <td>studentA</td>\n",
              "      <td>22.0</td>\n",
              "      <td>(929)-000-000</td>\n",
              "    </tr>\n",
              "    <tr>\n",
              "      <th>1</th>\n",
              "      <td>studentB</td>\n",
              "      <td>NaN</td>\n",
              "      <td>(646)-000-000</td>\n",
              "    </tr>\n",
              "    <tr>\n",
              "      <th>2</th>\n",
              "      <td>studentC</td>\n",
              "      <td>30.0</td>\n",
              "      <td>(917)-000-000</td>\n",
              "    </tr>\n",
              "    <tr>\n",
              "      <th>3</th>\n",
              "      <td>studentD</td>\n",
              "      <td>31.0</td>\n",
              "      <td>(646)-001-001</td>\n",
              "    </tr>\n",
              "    <tr>\n",
              "      <th>4</th>\n",
              "      <td>studentE</td>\n",
              "      <td>NaN</td>\n",
              "      <td>(929)-001-001</td>\n",
              "    </tr>\n",
              "  </tbody>\n",
              "</table>\n",
              "</div>"
            ],
            "text/plain": [
              "       Name   Age         Mobile\n",
              "0  studentA  22.0  (929)-000-000\n",
              "1  studentB   NaN  (646)-000-000\n",
              "2  studentC  30.0  (917)-000-000\n",
              "3  studentD  31.0  (646)-001-001\n",
              "4  studentE   NaN  (929)-001-001"
            ]
          },
          "metadata": {
            "tags": []
          },
          "execution_count": 24
        }
      ]
    },
    {
      "cell_type": "code",
      "metadata": {
        "collapsed": true,
        "id": "Bq-96gI8UjPn",
        "colab": {
          "base_uri": "https://localhost:8080/",
          "height": 143
        },
        "outputId": "65283cd5-5f28-4194-8278-ab0b23bb68ae"
      },
      "source": [
        "# This is the list of dicts approach\n",
        "alice = {\"name\": \"alice\", \"age\": 25, \"mobile\":\"555-222-9000\"}\n",
        "bob = {\"name\": \"bob\", \"age\": 100}\n",
        "casey = {\"age\":35, \"name\": \"casey\", \"mobile\":\"1-877-kars-4kids\"}\n",
        "\n",
        "list_of_dicts = [alice, bob, casey]\n",
        "lod_df = pd.DataFrame(list_of_dicts)\n",
        "lod_df.head(5)"
      ],
      "execution_count": 26,
      "outputs": [
        {
          "output_type": "execute_result",
          "data": {
            "text/html": [
              "<div>\n",
              "<style scoped>\n",
              "    .dataframe tbody tr th:only-of-type {\n",
              "        vertical-align: middle;\n",
              "    }\n",
              "\n",
              "    .dataframe tbody tr th {\n",
              "        vertical-align: top;\n",
              "    }\n",
              "\n",
              "    .dataframe thead th {\n",
              "        text-align: right;\n",
              "    }\n",
              "</style>\n",
              "<table border=\"1\" class=\"dataframe\">\n",
              "  <thead>\n",
              "    <tr style=\"text-align: right;\">\n",
              "      <th></th>\n",
              "      <th>name</th>\n",
              "      <th>age</th>\n",
              "      <th>mobile</th>\n",
              "    </tr>\n",
              "  </thead>\n",
              "  <tbody>\n",
              "    <tr>\n",
              "      <th>0</th>\n",
              "      <td>alice</td>\n",
              "      <td>25</td>\n",
              "      <td>555-222-9000</td>\n",
              "    </tr>\n",
              "    <tr>\n",
              "      <th>1</th>\n",
              "      <td>bob</td>\n",
              "      <td>100</td>\n",
              "      <td>NaN</td>\n",
              "    </tr>\n",
              "    <tr>\n",
              "      <th>2</th>\n",
              "      <td>casey</td>\n",
              "      <td>35</td>\n",
              "      <td>1-877-kars-4kids</td>\n",
              "    </tr>\n",
              "  </tbody>\n",
              "</table>\n",
              "</div>"
            ],
            "text/plain": [
              "    name  age            mobile\n",
              "0  alice   25      555-222-9000\n",
              "1    bob  100               NaN\n",
              "2  casey   35  1-877-kars-4kids"
            ]
          },
          "metadata": {
            "tags": []
          },
          "execution_count": 26
        }
      ]
    },
    {
      "cell_type": "markdown",
      "metadata": {
        "id": "D1EAn_pYUjPr"
      },
      "source": [
        "We can also add columns (they should have the same number of rows as the dataframe they are being added to)"
      ]
    },
    {
      "cell_type": "code",
      "metadata": {
        "collapsed": true,
        "id": "QVaBptecUjPu",
        "colab": {
          "base_uri": "https://localhost:8080/",
          "height": 206
        },
        "outputId": "880226ca-923b-41ca-fd14-94170aaf6c92"
      },
      "source": [
        "lol_df['Business Major'] = ['yes','no','yes','yes','yes','no','yes']\n",
        "lol_df['Years Experience'] = [1,4,2,6,0,3,0]\n",
        "lol_df.head(5)"
      ],
      "execution_count": 27,
      "outputs": [
        {
          "output_type": "execute_result",
          "data": {
            "text/html": [
              "<div>\n",
              "<style scoped>\n",
              "    .dataframe tbody tr th:only-of-type {\n",
              "        vertical-align: middle;\n",
              "    }\n",
              "\n",
              "    .dataframe tbody tr th {\n",
              "        vertical-align: top;\n",
              "    }\n",
              "\n",
              "    .dataframe thead th {\n",
              "        text-align: right;\n",
              "    }\n",
              "</style>\n",
              "<table border=\"1\" class=\"dataframe\">\n",
              "  <thead>\n",
              "    <tr style=\"text-align: right;\">\n",
              "      <th></th>\n",
              "      <th>Name</th>\n",
              "      <th>Age</th>\n",
              "      <th>Mobile</th>\n",
              "      <th>Business Major</th>\n",
              "      <th>Years Experience</th>\n",
              "    </tr>\n",
              "  </thead>\n",
              "  <tbody>\n",
              "    <tr>\n",
              "      <th>0</th>\n",
              "      <td>studentA</td>\n",
              "      <td>22.0</td>\n",
              "      <td>(929)-000-000</td>\n",
              "      <td>yes</td>\n",
              "      <td>1</td>\n",
              "    </tr>\n",
              "    <tr>\n",
              "      <th>1</th>\n",
              "      <td>studentB</td>\n",
              "      <td>NaN</td>\n",
              "      <td>(646)-000-000</td>\n",
              "      <td>no</td>\n",
              "      <td>4</td>\n",
              "    </tr>\n",
              "    <tr>\n",
              "      <th>2</th>\n",
              "      <td>studentC</td>\n",
              "      <td>30.0</td>\n",
              "      <td>(917)-000-000</td>\n",
              "      <td>yes</td>\n",
              "      <td>2</td>\n",
              "    </tr>\n",
              "    <tr>\n",
              "      <th>3</th>\n",
              "      <td>studentD</td>\n",
              "      <td>31.0</td>\n",
              "      <td>(646)-001-001</td>\n",
              "      <td>yes</td>\n",
              "      <td>6</td>\n",
              "    </tr>\n",
              "    <tr>\n",
              "      <th>4</th>\n",
              "      <td>studentE</td>\n",
              "      <td>NaN</td>\n",
              "      <td>(929)-001-001</td>\n",
              "      <td>yes</td>\n",
              "      <td>0</td>\n",
              "    </tr>\n",
              "  </tbody>\n",
              "</table>\n",
              "</div>"
            ],
            "text/plain": [
              "       Name   Age         Mobile Business Major  Years Experience\n",
              "0  studentA  22.0  (929)-000-000            yes                 1\n",
              "1  studentB   NaN  (646)-000-000             no                 4\n",
              "2  studentC  30.0  (917)-000-000            yes                 2\n",
              "3  studentD  31.0  (646)-001-001            yes                 6\n",
              "4  studentE   NaN  (929)-001-001            yes                 0"
            ]
          },
          "metadata": {
            "tags": []
          },
          "execution_count": 27
        }
      ]
    },
    {
      "cell_type": "markdown",
      "metadata": {
        "id": "19VB4XNyUjP1"
      },
      "source": [
        "\n",
        "What about operations on entire columns? This can make data munging much easier!\n",
        "\n",
        "Let's take the difference between age and years of experience:\n"
      ]
    },
    {
      "cell_type": "code",
      "metadata": {
        "collapsed": true,
        "id": "KGbWioxNUjP2",
        "colab": {
          "base_uri": "https://localhost:8080/"
        },
        "outputId": "b1dd5d52-6b1c-43e0-e6dd-d0f788e0e7ad"
      },
      "source": [
        "lol_df[\"Age\"] - lol_df[\"Years Experience\"]"
      ],
      "execution_count": 28,
      "outputs": [
        {
          "output_type": "execute_result",
          "data": {
            "text/plain": [
              "0    21.0\n",
              "1     NaN\n",
              "2    28.0\n",
              "3    25.0\n",
              "4     NaN\n",
              "5    27.0\n",
              "6    30.0\n",
              "dtype: float64"
            ]
          },
          "metadata": {
            "tags": []
          },
          "execution_count": 28
        }
      ]
    },
    {
      "cell_type": "markdown",
      "metadata": {
        "id": "01Erzc4VUjP9"
      },
      "source": [
        "All of the data frames used thus far have had missing values. We see that by default, pandas just displays `NaN`, when the value of a cell is unknown. Sometimes this interferes with the computation we're trying to accomplish. Fortunately, there is a [suite of functionality](https://pandas.pydata.org/pandas-docs/stable/missing_data.html) for dealing with missing data built in.\n",
        "\n",
        "Let's (for some reason) fill missing age info with the average age when doing our computation.."
      ]
    },
    {
      "cell_type": "code",
      "metadata": {
        "collapsed": true,
        "id": "8Pr2VhKKUjP_",
        "colab": {
          "base_uri": "https://localhost:8080/"
        },
        "outputId": "d82392b9-a8ca-4076-cf88-9fe6a4050b32"
      },
      "source": [
        "lol_df[\"Age\"].fillna(lol_df[\"Age\"].mean()) - lol_df[\"Years Experience\"]"
      ],
      "execution_count": 29,
      "outputs": [
        {
          "output_type": "execute_result",
          "data": {
            "text/plain": [
              "0    21.0\n",
              "1    24.6\n",
              "2    28.0\n",
              "3    25.0\n",
              "4    28.6\n",
              "5    27.0\n",
              "6    30.0\n",
              "dtype: float64"
            ]
          },
          "metadata": {
            "tags": []
          },
          "execution_count": 29
        }
      ]
    },
    {
      "cell_type": "markdown",
      "metadata": {
        "id": "fBS8l4BGUjQE"
      },
      "source": [
        "#### Extra added bonus!!   ---  Auto-complete"
      ]
    },
    {
      "cell_type": "markdown",
      "metadata": {
        "id": "7s3UnfQuUjQG"
      },
      "source": [
        "One of the most useful things about IPython notebook is its tab completion. \n",
        "\n",
        "Try this: type `np.sqrt(` in the cell below and press `Shift + Tab` 4 times, slowly"
      ]
    },
    {
      "cell_type": "code",
      "metadata": {
        "collapsed": true,
        "id": "hSTkWODeUjQI"
      },
      "source": [
        "np.sqrt()"
      ],
      "execution_count": null,
      "outputs": []
    },
    {
      "cell_type": "markdown",
      "metadata": {
        "id": "dS6lWISpUjQN"
      },
      "source": [
        "I find this amazingly useful. I think of this as \"the more confused I am, the more times I should press Shift+Tab\". Nothing bad will happen if you tab complete 12 times.\n",
        "\n",
        "Okay, let's try tab completion for function names! Type `np.sq` then hit `Tab` when typing below to get suggestions."
      ]
    },
    {
      "cell_type": "code",
      "metadata": {
        "collapsed": true,
        "id": "_VRFtj2bUjQP"
      },
      "source": [
        "np.sq"
      ],
      "execution_count": null,
      "outputs": []
    },
    {
      "cell_type": "markdown",
      "metadata": {
        "id": "8fY1gFduUjQU"
      },
      "source": [
        "This is super useful when (like me) you forget the names of everything!"
      ]
    },
    {
      "cell_type": "markdown",
      "metadata": {
        "id": "JaY8lEYGUjQX"
      },
      "source": [
        "#### Special Bonus 2! -- inline python help\n",
        "One of the coolest things about jupyter notebooks is that they give you access to the documentation of the objects and functions you're interacting with inside the notebook! just put a `?` at the beginning of the line, followed immediately by the thing you'd like help on:\n"
      ]
    },
    {
      "cell_type": "code",
      "metadata": {
        "collapsed": true,
        "id": "Vu3jFgxOUjQY"
      },
      "source": [
        "?np.sqrt"
      ],
      "execution_count": 30,
      "outputs": []
    },
    {
      "cell_type": "code",
      "metadata": {
        "collapsed": true,
        "id": "Mww4bKiiUjQd"
      },
      "source": [
        "?float"
      ],
      "execution_count": 31,
      "outputs": []
    },
    {
      "cell_type": "markdown",
      "metadata": {
        "id": "yySSdNGKUjQi"
      },
      "source": [
        "# A Taste of Whats to Come: Predictive Modeling\n",
        "We've seen thus far some examples of how jupyter, pandas and some other tools are great for manipulating and exploring data. This is great, but much of the power of data comes from its ability to help us predict/estimate unknown quantities. While this topic will be explored in much greater depth throughout the remainder of this course, let's take a sneak peek into some of what we'll be doing in the future. \n",
        "\n",
        "For this, let's build a simple model to predict the mpg of cars from the other information we have available on those cars."
      ]
    },
    {
      "cell_type": "code",
      "metadata": {
        "collapsed": true,
        "id": "mFXeoOydUjQk",
        "colab": {
          "base_uri": "https://localhost:8080/",
          "height": 81
        },
        "outputId": "d7551382-9449-42b4-a492-911268cebc93"
      },
      "source": [
        "# First we'll need to import the predictive model class that we'll use\n",
        "from sklearn import linear_model \n",
        "\n",
        "# Now, choose a particular kind of linear regression model\n",
        "# Get set up to \"train\" one of those (learn it from data)\n",
        "my_linear = linear_model.Lasso(alpha=0.01)\n",
        "\n",
        "# Assemble the training data (we will define all this nomenclature in the next few classes)\n",
        "# Let's use these columns as features and the target variable\n",
        "features = [\"weight\", \"acceleration\", \"cylinders\", \"displacement\"]\n",
        "target = \"mpg\"\n",
        "\n",
        "# Eliminate (drop) any instances with missing values (NaNs) for now\n",
        "cleaned_df = mpg_df.dropna()\n",
        "\n",
        "# Train the model you set up on the data\n",
        "#   a.k.a. Fit the model to the data!\n",
        "my_linear.fit(cleaned_df[features], cleaned_df[target])\n",
        "\n",
        "# Show the coefficients of the linear model\n",
        "pd.DataFrame([dict(zip(features, my_linear.coef_))])"
      ],
      "execution_count": 32,
      "outputs": [
        {
          "output_type": "execute_result",
          "data": {
            "text/html": [
              "<div>\n",
              "<style scoped>\n",
              "    .dataframe tbody tr th:only-of-type {\n",
              "        vertical-align: middle;\n",
              "    }\n",
              "\n",
              "    .dataframe tbody tr th {\n",
              "        vertical-align: top;\n",
              "    }\n",
              "\n",
              "    .dataframe thead th {\n",
              "        text-align: right;\n",
              "    }\n",
              "</style>\n",
              "<table border=\"1\" class=\"dataframe\">\n",
              "  <thead>\n",
              "    <tr style=\"text-align: right;\">\n",
              "      <th></th>\n",
              "      <th>weight</th>\n",
              "      <th>acceleration</th>\n",
              "      <th>cylinders</th>\n",
              "      <th>displacement</th>\n",
              "    </tr>\n",
              "  </thead>\n",
              "  <tbody>\n",
              "    <tr>\n",
              "      <th>0</th>\n",
              "      <td>-0.006132</td>\n",
              "      <td>0.185283</td>\n",
              "      <td>-0.248144</td>\n",
              "      <td>-0.007107</td>\n",
              "    </tr>\n",
              "  </tbody>\n",
              "</table>\n",
              "</div>"
            ],
            "text/plain": [
              "     weight  acceleration  cylinders  displacement\n",
              "0 -0.006132      0.185283  -0.248144     -0.007107"
            ]
          },
          "metadata": {
            "tags": []
          },
          "execution_count": 32
        }
      ]
    },
    {
      "cell_type": "code",
      "metadata": {
        "collapsed": true,
        "id": "iQ71UGbaUjQp",
        "colab": {
          "base_uri": "https://localhost:8080/",
          "height": 206
        },
        "outputId": "1d07e6d1-9e8c-4325-b6a6-cd44bcae95c1"
      },
      "source": [
        "# Let's get some predictions from the model\n",
        "preds = my_linear.predict(cleaned_df[features])\n",
        "predictions_df = cleaned_df.assign(predictions=preds)\n",
        "predictions_df[[\"mpg\", \"predictions\"]].head(5)"
      ],
      "execution_count": 33,
      "outputs": [
        {
          "output_type": "execute_result",
          "data": {
            "text/html": [
              "<div>\n",
              "<style scoped>\n",
              "    .dataframe tbody tr th:only-of-type {\n",
              "        vertical-align: middle;\n",
              "    }\n",
              "\n",
              "    .dataframe tbody tr th {\n",
              "        vertical-align: top;\n",
              "    }\n",
              "\n",
              "    .dataframe thead th {\n",
              "        text-align: right;\n",
              "    }\n",
              "</style>\n",
              "<table border=\"1\" class=\"dataframe\">\n",
              "  <thead>\n",
              "    <tr style=\"text-align: right;\">\n",
              "      <th></th>\n",
              "      <th>mpg</th>\n",
              "      <th>predictions</th>\n",
              "    </tr>\n",
              "  </thead>\n",
              "  <tbody>\n",
              "    <tr>\n",
              "      <th>0</th>\n",
              "      <td>18.0</td>\n",
              "      <td>18.134156</td>\n",
              "    </tr>\n",
              "    <tr>\n",
              "      <th>1</th>\n",
              "      <td>15.0</td>\n",
              "      <td>16.576914</td>\n",
              "    </tr>\n",
              "    <tr>\n",
              "      <th>2</th>\n",
              "      <td>18.0</td>\n",
              "      <td>18.287701</td>\n",
              "    </tr>\n",
              "    <tr>\n",
              "      <th>3</th>\n",
              "      <td>16.0</td>\n",
              "      <td>18.590874</td>\n",
              "    </tr>\n",
              "    <tr>\n",
              "      <th>4</th>\n",
              "      <td>17.0</td>\n",
              "      <td>18.229045</td>\n",
              "    </tr>\n",
              "  </tbody>\n",
              "</table>\n",
              "</div>"
            ],
            "text/plain": [
              "    mpg  predictions\n",
              "0  18.0    18.134156\n",
              "1  15.0    16.576914\n",
              "2  18.0    18.287701\n",
              "3  16.0    18.590874\n",
              "4  17.0    18.229045"
            ]
          },
          "metadata": {
            "tags": []
          },
          "execution_count": 33
        }
      ]
    },
    {
      "cell_type": "code",
      "metadata": {
        "collapsed": true,
        "id": "qipNNfNYUjQu",
        "colab": {
          "base_uri": "https://localhost:8080/",
          "height": 340
        },
        "outputId": "f13a4f21-68be-413b-d9eb-3f0fa543374e"
      },
      "source": [
        "# Can we visualize how good our predictions are?\n",
        "# Let's plot the predicted mpg vs. the true value\n",
        "predictions_df.plot(kind=\"scatter\", x=\"mpg\", y=\"predictions\")\n",
        "# Q: What would perfect predictions look like?\n",
        "# Q: How would you describe our predictive ability here?"
      ],
      "execution_count": 34,
      "outputs": [
        {
          "output_type": "stream",
          "text": [
            "*c* argument looks like a single numeric RGB or RGBA sequence, which should be avoided as value-mapping will have precedence in case its length matches with *x* & *y*.  Please use the *color* keyword-argument or provide a 2-D array with a single row if you intend to specify the same RGB or RGBA value for all points.\n"
          ],
          "name": "stderr"
        },
        {
          "output_type": "execute_result",
          "data": {
            "text/plain": [
              "<matplotlib.axes._subplots.AxesSubplot at 0x7efcb2628d68>"
            ]
          },
          "metadata": {
            "tags": []
          },
          "execution_count": 34
        },
        {
          "output_type": "display_data",
          "data": {
            "image/png": "[encoded data removed]",
            "text/plain": [
              "<Figure size 432x288 with 1 Axes>"
            ]
          },
          "metadata": {
            "tags": []
          }
        }
      ]
    },
    {
      "cell_type": "markdown",
      "metadata": {
        "id": "YfwBsUu5UjQ0"
      },
      "source": [
        "##*Hands-on exercises*\n"
      ]
    },
    {
      "cell_type": "markdown",
      "metadata": {
        "id": "aRV7ZnsyUjQ2"
      },
      "source": [
        "To master your new-found knowledge of Python, try these hands-on examples. \n",
        "\n",
        "Your homeworks will be in a similar format to this section.\n",
        "\n",
        "Consider the following URL to a CSV file containing the results of compressive tests for various types of concrete"
      ]
    },
    {
      "cell_type": "code",
      "metadata": {
        "collapsed": true,
        "id": "33kJi31dUjQ2"
      },
      "source": [
        "concrete_url = \"https://www.openml.org/data/get_csv/1762521/phpZGl7F2\""
      ],
      "execution_count": 35,
      "outputs": []
    },
    {
      "cell_type": "markdown",
      "metadata": {
        "id": "DWB2fSMvUjQ8"
      },
      "source": [
        "**1. Load the CSV data into a pandas data frame. Print some high-level statistical info about the data frame's columns. HINT: You may also want to rename the columns.**"
      ]
    },
    {
      "cell_type": "code",
      "metadata": {
        "collapsed": true,
        "id": "PnfHFM7vUjQ9"
      },
      "source": [
        ""
      ],
      "execution_count": null,
      "outputs": []
    },
    {
      "cell_type": "markdown",
      "metadata": {
        "id": "gdEKd37rUjRD"
      },
      "source": [
        "**2. How many rows have a compressive strength > 40 MPa?**"
      ]
    },
    {
      "cell_type": "code",
      "metadata": {
        "collapsed": true,
        "id": "wAPo_MyoUjRF"
      },
      "source": [
        ""
      ],
      "execution_count": null,
      "outputs": []
    },
    {
      "cell_type": "markdown",
      "metadata": {
        "id": "dE_Pou3mUjRL"
      },
      "source": [
        "**3. Plot the histogram of Coarse Aggregate and Fine Aggregate values**"
      ]
    },
    {
      "cell_type": "code",
      "metadata": {
        "collapsed": true,
        "id": "joN56kLhUjRM"
      },
      "source": [
        ""
      ],
      "execution_count": null,
      "outputs": []
    },
    {
      "cell_type": "markdown",
      "metadata": {
        "id": "zZ80EX7CUjRQ"
      },
      "source": [
        "**4. Make a plot comparing compressive strength to age**"
      ]
    },
    {
      "cell_type": "code",
      "metadata": {
        "collapsed": true,
        "id": "ym9pm-ffUjRS"
      },
      "source": [
        ""
      ],
      "execution_count": null,
      "outputs": []
    },
    {
      "cell_type": "markdown",
      "metadata": {
        "id": "ji4nopGnUjRX"
      },
      "source": [
        "**5. Make a plot comparing compressive strength to age for only those rows with < 750 fine aggregate**"
      ]
    },
    {
      "cell_type": "code",
      "metadata": {
        "collapsed": true,
        "id": "5lELzHgTUjRY"
      },
      "source": [
        ""
      ],
      "execution_count": null,
      "outputs": []
    },
    {
      "cell_type": "markdown",
      "metadata": {
        "id": "f1Vav_5KUjRd"
      },
      "source": [
        "**6. Try to build a linear model that predicts compressive strength given the other available fields**\n"
      ]
    },
    {
      "cell_type": "code",
      "metadata": {
        "collapsed": true,
        "id": "_Vs1mpUHUjRf"
      },
      "source": [
        ""
      ],
      "execution_count": null,
      "outputs": []
    },
    {
      "cell_type": "markdown",
      "metadata": {
        "id": "qcds0j-3UjRi"
      },
      "source": [
        "**7. Generate predictions for all the observations and a scatterplot comparing the predicted compressive strengths to the actual values.**"
      ]
    },
    {
      "cell_type": "code",
      "metadata": {
        "collapsed": true,
        "id": "gu92GthtUjRk"
      },
      "source": [
        ""
      ],
      "execution_count": null,
      "outputs": []
    }
  ]
}