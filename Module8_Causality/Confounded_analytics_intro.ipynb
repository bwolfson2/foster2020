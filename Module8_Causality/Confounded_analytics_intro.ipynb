{
  "nbformat": 4,
  "nbformat_minor": 0,
  "metadata": {
    "kernelspec": {
      "display_name": "Python 3",
      "language": "python",
      "name": "python3"
    },
    "language_info": {
      "codemirror_mode": {
        "name": "ipython",
        "version": 3
      },
      "file_extension": ".py",
      "mimetype": "text/x-python",
      "name": "python",
      "nbconvert_exporter": "python",
      "pygments_lexer": "ipython3",
      "version": "3.7.4"
    },
    "colab": {
      "name": "Confounded_analytics_intro.ipynb",
      "provenance": [],
      "collapsed_sections": []
    }
  },
  "cells": [
    {
      "cell_type": "markdown",
      "metadata": {
        "id": "xrPmZrH8xmMU",
        "colab_type": "text"
      },
      "source": [
        "To open notebook in Colab please click below:\n",
        "<a href=\"https://colab.research.google.com/github/bwolfson2/foster_2020/blob/master/Module8_Causality/Confounded_analytics_intro.ipynb\" target=\"_parent\"> <img src=\"https://colab.research.google.com/assets/colab-badge.svg\" alt=\"Open In Colab\" /> </a>'"
      ]
    },
    {
      "cell_type": "code",
      "metadata": {
        "collapsed": true,
        "id": "KpqPOE5QxmMY",
        "colab_type": "code",
        "outputId": "96e78d53-c9bc-4137-a34c-fa90fa1d914b",
        "colab": {
          "base_uri": "https://localhost:8080/",
          "height": 173
        }
      },
      "source": [
        "#If opening in colab run this cell\n",
        "!git clone https://github.com/bwolfson2/foster_2020\n",
        "%cd foster_2020/Module8_Causality"
      ],
      "execution_count": 0,
      "outputs": [
        {
          "output_type": "stream",
          "text": [
            "Cloning into 'foster_2020'...\n",
            "remote: Enumerating objects: 199, done.\u001b[K\n",
            "remote: Counting objects: 100% (199/199), done.\u001b[K\n",
            "remote: Compressing objects: 100% (162/162), done.\u001b[K\n",
            "remote: Total 308 (delta 70), reused 158 (delta 31), pack-reused 109\u001b[K\n",
            "Receiving objects: 100% (308/308), 60.59 MiB | 21.35 MiB/s, done.\n",
            "Resolving deltas: 100% (109/109), done.\n",
            "Checking out files: 100% (125/125), done.\n",
            "/content/foster_2020/Module8_Causality\n"
          ],
          "name": "stdout"
        }
      ]
    },
    {
      "cell_type": "markdown",
      "metadata": {
        "id": "iOLhsEIkxmMz",
        "colab_type": "text"
      },
      "source": [
        "# Finding the best consultant\n",
        "\n",
        "You work for McKeen Sea, a consulting firm. One of McKeen Sea's most important customers has requested an additional consultant, and you've been tasked to find the best one available out of two potential candidates: Aaron and Ben. Fortunately, McKeen Sea has collected some data on the past performance of these consultants, and so you would like to use the data to make a better decision. "
      ]
    },
    {
      "cell_type": "code",
      "metadata": {
        "id": "dB07bn1BxmM3",
        "colab_type": "code",
        "outputId": "db2b55c9-01bd-4abe-db9b-2b776bb3e8d4",
        "colab": {
          "base_uri": "https://localhost:8080/",
          "height": 206
        }
      },
      "source": [
        "import numpy as np\n",
        "import pandas as pd\n",
        "%matplotlib inline\n",
        "import matplotlib.pyplot as plt\n",
        "\n",
        "import sys\n",
        "sys.path.append(\"..\")\n",
        "from ds_utils.sample_data import get_project_data\n",
        "\n",
        "data = get_project_data()\n",
        "data.head()"
      ],
      "execution_count": 0,
      "outputs": [
        {
          "output_type": "execute_result",
          "data": {
            "text/html": [
              "<div>\n",
              "<style scoped>\n",
              "    .dataframe tbody tr th:only-of-type {\n",
              "        vertical-align: middle;\n",
              "    }\n",
              "\n",
              "    .dataframe tbody tr th {\n",
              "        vertical-align: top;\n",
              "    }\n",
              "\n",
              "    .dataframe thead th {\n",
              "        text-align: right;\n",
              "    }\n",
              "</style>\n",
              "<table border=\"1\" class=\"dataframe\">\n",
              "  <thead>\n",
              "    <tr style=\"text-align: right;\">\n",
              "      <th></th>\n",
              "      <th>Consultant</th>\n",
              "      <th>Customer</th>\n",
              "      <th>Project</th>\n",
              "      <th>Service</th>\n",
              "      <th>Performance</th>\n",
              "    </tr>\n",
              "  </thead>\n",
              "  <tbody>\n",
              "    <tr>\n",
              "      <th>6</th>\n",
              "      <td>Aaron</td>\n",
              "      <td>New</td>\n",
              "      <td>Large</td>\n",
              "      <td>Old</td>\n",
              "      <td>0.222222</td>\n",
              "    </tr>\n",
              "    <tr>\n",
              "      <th>22</th>\n",
              "      <td>Aaron</td>\n",
              "      <td>Old</td>\n",
              "      <td>Large</td>\n",
              "      <td>New</td>\n",
              "      <td>0.555556</td>\n",
              "    </tr>\n",
              "    <tr>\n",
              "      <th>57</th>\n",
              "      <td>Ben</td>\n",
              "      <td>New</td>\n",
              "      <td>Large</td>\n",
              "      <td>New</td>\n",
              "      <td>0.111111</td>\n",
              "    </tr>\n",
              "    <tr>\n",
              "      <th>15</th>\n",
              "      <td>Aaron</td>\n",
              "      <td>Old</td>\n",
              "      <td>Large</td>\n",
              "      <td>New</td>\n",
              "      <td>0.555556</td>\n",
              "    </tr>\n",
              "    <tr>\n",
              "      <th>40</th>\n",
              "      <td>Aaron</td>\n",
              "      <td>Old</td>\n",
              "      <td>Small</td>\n",
              "      <td>Old</td>\n",
              "      <td>1.000000</td>\n",
              "    </tr>\n",
              "  </tbody>\n",
              "</table>\n",
              "</div>"
            ],
            "text/plain": [
              "   Consultant Customer Project Service  Performance\n",
              "6       Aaron      New   Large     Old     0.222222\n",
              "22      Aaron      Old   Large     New     0.555556\n",
              "57        Ben      New   Large     New     0.111111\n",
              "15      Aaron      Old   Large     New     0.555556\n",
              "40      Aaron      Old   Small     Old     1.000000"
            ]
          },
          "metadata": {
            "tags": []
          },
          "execution_count": 2
        }
      ]
    },
    {
      "cell_type": "code",
      "metadata": {
        "id": "zgznr0qhxmNB",
        "colab_type": "code",
        "outputId": "c7c7dc6e-b076-4ee2-e8b1-ebf9479ea56d",
        "colab": {
          "base_uri": "https://localhost:8080/",
          "height": 69
        }
      },
      "source": [
        "data.Consultant.value_counts()"
      ],
      "execution_count": 0,
      "outputs": [
        {
          "output_type": "execute_result",
          "data": {
            "text/plain": [
              "Aaron    48\n",
              "Ben      48\n",
              "Name: Consultant, dtype: int64"
            ]
          },
          "metadata": {
            "tags": []
          },
          "execution_count": 3
        }
      ]
    },
    {
      "cell_type": "code",
      "metadata": {
        "id": "VjVCKmtJxmNO",
        "colab_type": "code",
        "outputId": "9f190c79-5397-482f-f463-66dc2e452c4f",
        "colab": {
          "base_uri": "https://localhost:8080/",
          "height": 446
        }
      },
      "source": [
        "# Some auxiliar functions for plotting\n",
        "def plot_avg_performance(data, groups=None):\n",
        "    plot_auxiliar(data, groups, True)\n",
        "    \n",
        "def plot_number_of_projects(data, groups=None):\n",
        "    plot_auxiliar(data, groups, False)\n",
        "\n",
        "def plot_auxiliar(data, groups, mean=True):\n",
        "    if groups is None:\n",
        "        fig, ax = plt.subplots(nrows=1, ncols=1, figsize=(8, 7))\n",
        "        if mean:\n",
        "            data.groupby(['Consultant']).Performance.mean().plot(kind='bar', rot=0, ax=ax)\n",
        "            plt.ylabel('Avg. performance')\n",
        "            plt.ylim((0, 1))\n",
        "        else:\n",
        "            data.groupby(['Consultant']).Performance.size().plot(kind='bar', rot=0, ax=ax)\n",
        "            plt.ylabel('# of projects')\n",
        "    else:\n",
        "        grouped = data.groupby(groups)\n",
        "        rows = int(grouped.ngroups/2)\n",
        "        fig, axs = plt.subplots(figsize=(16,7*rows), nrows=rows, ncols=2, gridspec_kw=dict(hspace=0.4))\n",
        "        targets = zip(grouped.groups.keys(), axs.flatten())\n",
        "        for i, (key, ax) in enumerate(targets):\n",
        "            if mean:\n",
        "                grouped.get_group(key).groupby('Consultant').Performance.mean().plot(kind='bar', rot=0, ax=ax)\n",
        "                ax.set_ylabel('Avg. performance')\n",
        "                ax.set_ylim((0, 1))\n",
        "            else:\n",
        "                grouped.get_group(key).groupby('Consultant').Performance.size().plot(kind='bar', rot=0, ax=ax)\n",
        "                ax.set_ylabel('# of projects')\n",
        "            key_s = []\n",
        "            if type(key) is not tuple:\n",
        "                key = (key,)\n",
        "            for j, elem in enumerate(key):\n",
        "                key_s.append(elem + ' ' +  groups[j])\n",
        "            ax.set_title(' | '.join(key_s))\n",
        "\n",
        "plot_avg_performance(data)"
      ],
      "execution_count": 0,
      "outputs": [
        {
          "output_type": "display_data",
          "data": {
            "image/png": "[encoded data removed]",
            "text/plain": [
              "<Figure size 576x504 with 1 Axes>"
            ]
          },
          "metadata": {
            "tags": [],
            "needs_background": "light"
          }
        }
      ]
    },
    {
      "cell_type": "markdown",
      "metadata": {
        "id": "sdIsvkqqxmNZ",
        "colab_type": "text"
      },
      "source": [
        "Would this information be useful to assess if Aaron will perform better than Ben? What happens if we split the data by customer?"
      ]
    },
    {
      "cell_type": "code",
      "metadata": {
        "id": "UX_U9ElFxmNb",
        "colab_type": "code",
        "outputId": "6fb6e2de-9043-4e6f-a994-c83691a7cc9c",
        "colab": {
          "base_uri": "https://localhost:8080/",
          "height": 458
        }
      },
      "source": [
        "plot_avg_performance(data, groups=['Customer'])"
      ],
      "execution_count": 0,
      "outputs": [
        {
          "output_type": "display_data",
          "data": {
            "image/png": "[encoded data removed]",
            "text/plain": [
              "<Figure size 1152x504 with 2 Axes>"
            ]
          },
          "metadata": {
            "tags": [],
            "needs_background": "light"
          }
        }
      ]
    },
    {
      "cell_type": "markdown",
      "metadata": {
        "id": "ZtSAgHOi_78J",
        "colab_type": "text"
      },
      "source": [
        ""
      ]
    },
    {
      "cell_type": "markdown",
      "metadata": {
        "id": "7kaNApEuxmNl",
        "colab_type": "text"
      },
      "source": [
        "Ben performs better than Aaron, both with new AND old customers! How can this be possible? "
      ]
    }
  ]
}