{
 "cells": [
  {
   "cell_type": "markdown",
   "metadata": {
    "colab_type": "text",
    "id": "DcERPFl940Lt"
   },
   "source": [
    "\n",
    "To open notebook in Colab please click below:\n",
    "\n",
    "<a href=\"https://colab.research.google.com/github/bwolfson2/foster2020/blob/master/Module0_Basics/Colab%20Basics.ipynb\" target=\"_parent\"> <img src=\"https://colab.research.google.com/assets/colab-badge.svg\" alt=\"Open In Colab\" /> </a>'\n",
    "\n",
    "\n",
    "# Colab Basics\n",
    "Welcome to Colab, Google's Python computing environment! \n",
    "\n",
    "\n",
    "# Getting Started\n",
    "\n",
    "Google provides many of useful Colab tutorials (some of which are below). But first -- it is super important to save your notebook to your Google Drive, so that you do not lose your work. Here is how you save your files:\n",
    "\n",
    "#### 1. Click \"File\" in the top left corner and \"Save to Google Drive\"\n",
    "If prompted login to your stern account and grant Colab permission to run (this is an automated \"click-through\" no thought process). \n",
    "\n",
    "![alt text](https://drive.google.com/uc?id=1Mrwssr13AHYIkwCMbNc0WDp6hig7Tj1b)\n",
    "\n",
    "#### 2. The notebook will open in a new tab with a google logo (you can now remove the \"Copy of\" from the name if you'd like)\n",
    "\n",
    "![alt_text](https://drive.google.com/uc?id=13qXvZNWZrcwwjXJYBfrwcXCEqDBsGBSQ)\n",
    "\n",
    "#### 3. That's it, now it's in your drive \n",
    "\n",
    "\n",
    "\n",
    "![alt text](https://drive.google.com/uc?id=1x7wcYKENv2WO0BH7sf1yV2HY1t3U83GD)\n",
    "\n",
    "![alt text](https://drive.google.com/uc?id=1X1HQVBztTzdKtAOYQqsZWrMDQ7MGcSUB)\n",
    "\n",
    "# Using Colab\n",
    "\n",
    "Sometimes, it's important to defer to your betters. Here are three links to people (if corporations are people) that have explained the basics of Colab better than I could.\n",
    "\n",
    "#### 1. [Overview of Colab](https://colab.research.google.com/notebooks/intro.ipynb)\n",
    "\n",
    "There are links at the bottom of this notebook to more resources\n",
    "\n",
    "#### 2. [Notebook and how to use them](https://colab.research.google.com/notebooks/basic_features_overview.ipynb) \n",
    "\n",
    "#### 3. [An excellent intro to Python in Colab](http://becomingvisual.com/python4data/basics.html)\n"
   ]
  },
  {
   "cell_type": "code",
   "execution_count": 0,
   "metadata": {
    "colab": {},
    "colab_type": "code",
    "collapsed": true,
    "id": "vLe95bly7E53"
   },
   "outputs": [],
   "source": []
  }
 ],
 "metadata": {
  "colab": {
   "collapsed_sections": [],
   "name": "Colab Basics.ipynb",
   "provenance": []
  },
  "kernelspec": {
   "display_name": "Python 3",
   "language": "python",
   "name": "python3"
  },
  "language_info": {
   "codemirror_mode": {
    "name": "ipython",
    "version": 3
   },
   "file_extension": ".py",
   "mimetype": "text/x-python",
   "name": "python",
   "nbconvert_exporter": "python",
   "pygments_lexer": "ipython3",
   "version": "3.6.9"
  }
 },
 "nbformat": 4,
 "nbformat_minor": 1
}
