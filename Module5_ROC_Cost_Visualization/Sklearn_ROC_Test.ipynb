{
 "cells": [
  {
   "cell_type": "code",
   "execution_count": 1,
   "metadata": {},
   "outputs": [],
   "source": [
    "import numpy as np\n",
    "import sklearn\n",
    "from sklearn import metrics\n",
    "import matplotlib.pyplot as plt\n",
    "%matplotlib inline"
   ]
  },
  {
   "cell_type": "code",
   "execution_count": 9,
   "metadata": {},
   "outputs": [
    {
     "data": {
      "text/plain": [
       "Text(0.5, 1.0, 'k = 0, 0.25, 0.5, 0.75')"
      ]
     },
     "execution_count": 9,
     "metadata": {},
     "output_type": "execute_result"
    },
    {
     "data": {
      "image/png": "[encoded data removed]",
      "text/plain": [
       "<Figure size 432x288 with 1 Axes>"
      ]
     },
     "metadata": {
      "needs_background": "light"
     },
     "output_type": "display_data"
    }
   ],
   "source": [
    "#X = \n",
    "ks = [0,.25,.5,.75]\n",
    "y_preds = []\n",
    "y_reals = []\n",
    "for k in ks:\n",
    "    y_real = np.random.binomial(1,k,100)\n",
    "    ## for numeric predictions around the right number: \n",
    "    # y_pred = np.arange(k-.1,k+.1,.2/100)\n",
    "    y_pred = np.ones((100,),)*k\n",
    "    y_preds.append(y_pred)\n",
    "    y_reals.append(y_real)\n",
    "y_preds = np.concatenate(y_preds)\n",
    "y_reals = np.concatenate(y_reals)\n",
    "fpr, tpr, thresholds = metrics.roc_curve(y_reals, y_preds)\n",
    "plt.plot(fpr, tpr, label=\"AUC (C=\" + str(100) + \") = \" )\n",
    "k_str = ', '.join([str(i) for i in ks])\n",
    "plt.title(f'k = {k_str}')"
   ]
  },
  {
   "cell_type": "code",
   "execution_count": 8,
   "metadata": {},
   "outputs": [
    {
     "data": {
      "text/plain": [
       "array([0.4  , 0.402, 0.404, 0.406, 0.408, 0.41 , 0.412, 0.414, 0.416,\n",
       "       0.418, 0.42 , 0.422, 0.424, 0.426, 0.428, 0.43 , 0.432, 0.434,\n",
       "       0.436, 0.438, 0.44 , 0.442, 0.444, 0.446, 0.448, 0.45 , 0.452,\n",
       "       0.454, 0.456, 0.458, 0.46 , 0.462, 0.464, 0.466, 0.468, 0.47 ,\n",
       "       0.472, 0.474, 0.476, 0.478, 0.48 , 0.482, 0.484, 0.486, 0.488,\n",
       "       0.49 , 0.492, 0.494, 0.496, 0.498, 0.5  , 0.502, 0.504, 0.506,\n",
       "       0.508, 0.51 , 0.512, 0.514, 0.516, 0.518, 0.52 , 0.522, 0.524,\n",
       "       0.526, 0.528, 0.53 , 0.532, 0.534, 0.536, 0.538, 0.54 , 0.542,\n",
       "       0.544, 0.546, 0.548, 0.55 , 0.552, 0.554, 0.556, 0.558, 0.56 ,\n",
       "       0.562, 0.564, 0.566, 0.568, 0.57 , 0.572, 0.574, 0.576, 0.578,\n",
       "       0.58 , 0.582, 0.584, 0.586, 0.588, 0.59 , 0.592, 0.594, 0.596,\n",
       "       0.598, 0.4  , 0.402, 0.404, 0.406, 0.408, 0.41 , 0.412, 0.414,\n",
       "       0.416, 0.418, 0.42 , 0.422, 0.424, 0.426, 0.428, 0.43 , 0.432,\n",
       "       0.434, 0.436, 0.438, 0.44 , 0.442, 0.444, 0.446, 0.448, 0.45 ,\n",
       "       0.452, 0.454, 0.456, 0.458, 0.46 , 0.462, 0.464, 0.466, 0.468,\n",
       "       0.47 , 0.472, 0.474, 0.476, 0.478, 0.48 , 0.482, 0.484, 0.486,\n",
       "       0.488, 0.49 , 0.492, 0.494, 0.496, 0.498, 0.5  , 0.502, 0.504,\n",
       "       0.506, 0.508, 0.51 , 0.512, 0.514, 0.516, 0.518, 0.52 , 0.522,\n",
       "       0.524, 0.526, 0.528, 0.53 , 0.532, 0.534, 0.536, 0.538, 0.54 ,\n",
       "       0.542, 0.544, 0.546, 0.548, 0.55 , 0.552, 0.554, 0.556, 0.558,\n",
       "       0.56 , 0.562, 0.564, 0.566, 0.568, 0.57 , 0.572, 0.574, 0.576,\n",
       "       0.578, 0.58 , 0.582, 0.584, 0.586, 0.588, 0.59 , 0.592, 0.594,\n",
       "       0.596, 0.598, 0.4  , 0.402, 0.404, 0.406, 0.408, 0.41 , 0.412,\n",
       "       0.414, 0.416, 0.418, 0.42 , 0.422, 0.424, 0.426, 0.428, 0.43 ,\n",
       "       0.432, 0.434, 0.436, 0.438, 0.44 , 0.442, 0.444, 0.446, 0.448,\n",
       "       0.45 , 0.452, 0.454, 0.456, 0.458, 0.46 , 0.462, 0.464, 0.466,\n",
       "       0.468, 0.47 , 0.472, 0.474, 0.476, 0.478, 0.48 , 0.482, 0.484,\n",
       "       0.486, 0.488, 0.49 , 0.492, 0.494, 0.496, 0.498, 0.5  , 0.502,\n",
       "       0.504, 0.506, 0.508, 0.51 , 0.512, 0.514, 0.516, 0.518, 0.52 ,\n",
       "       0.522, 0.524, 0.526, 0.528, 0.53 , 0.532, 0.534, 0.536, 0.538,\n",
       "       0.54 , 0.542, 0.544, 0.546, 0.548, 0.55 , 0.552, 0.554, 0.556,\n",
       "       0.558, 0.56 , 0.562, 0.564, 0.566, 0.568, 0.57 , 0.572, 0.574,\n",
       "       0.576, 0.578, 0.58 , 0.582, 0.584, 0.586, 0.588, 0.59 , 0.592,\n",
       "       0.594, 0.596, 0.598, 0.4  , 0.402, 0.404, 0.406, 0.408, 0.41 ,\n",
       "       0.412, 0.414, 0.416, 0.418, 0.42 , 0.422, 0.424, 0.426, 0.428,\n",
       "       0.43 , 0.432, 0.434, 0.436, 0.438, 0.44 , 0.442, 0.444, 0.446,\n",
       "       0.448, 0.45 , 0.452, 0.454, 0.456, 0.458, 0.46 , 0.462, 0.464,\n",
       "       0.466, 0.468, 0.47 , 0.472, 0.474, 0.476, 0.478, 0.48 , 0.482,\n",
       "       0.484, 0.486, 0.488, 0.49 , 0.492, 0.494, 0.496, 0.498, 0.5  ,\n",
       "       0.502, 0.504, 0.506, 0.508, 0.51 , 0.512, 0.514, 0.516, 0.518,\n",
       "       0.52 , 0.522, 0.524, 0.526, 0.528, 0.53 , 0.532, 0.534, 0.536,\n",
       "       0.538, 0.54 , 0.542, 0.544, 0.546, 0.548, 0.55 , 0.552, 0.554,\n",
       "       0.556, 0.558, 0.56 , 0.562, 0.564, 0.566, 0.568, 0.57 , 0.572,\n",
       "       0.574, 0.576, 0.578, 0.58 , 0.582, 0.584, 0.586, 0.588, 0.59 ,\n",
       "       0.592, 0.594, 0.596, 0.598])"
      ]
     },
     "execution_count": 8,
     "metadata": {},
     "output_type": "execute_result"
    }
   ],
   "source": [
    "y_preds"
   ]
  }
 ],
 "metadata": {
  "kernelspec": {
   "display_name": "Python [conda env:narrativ] *",
   "language": "python",
   "name": "conda-env-narrativ-py"
  },
  "language_info": {
   "codemirror_mode": {
    "name": "ipython",
    "version": 3
   },
   "file_extension": ".py",
   "mimetype": "text/x-python",
   "name": "python",
   "nbconvert_exporter": "python",
   "pygments_lexer": "ipython3",
   "version": "3.7.6"
  }
 },
 "nbformat": 4,
 "nbformat_minor": 4
}
