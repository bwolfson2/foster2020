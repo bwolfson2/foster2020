{
 "cells": [
  {
   "cell_type": "code",
   "execution_count": 1,
   "metadata": {},
   "outputs": [],
   "source": [
    "import numpy as np\n",
    "import sklearn\n",
    "from sklearn import metrics\n",
    "import matplotlib.pyplot as plt\n",
    "%matplotlib inline"
   ]
  },
  {
   "cell_type": "code",
   "execution_count": 27,
   "metadata": {},
   "outputs": [
    {
     "data": {
      "text/plain": [
       "Text(0.5, 1.0, 'k = 0, 0.25, 0.5, 0.75')"
      ]
     },
     "execution_count": 27,
     "metadata": {},
     "output_type": "execute_result"
    },
    {
     "data": {
      "image/png": "[encoded data removed]",
      "text/plain": [
       "<Figure size 432x288 with 1 Axes>"
      ]
     },
     "metadata": {
      "needs_background": "light"
     },
     "output_type": "display_data"
    }
   ],
   "source": [
    "#X = \n",
    "ks = [0,.25,.5,.75]\n",
    "y_preds = []\n",
    "y_reals = []\n",
    "for k in ks:\n",
    "    y_real = np.random.binomial(1,k,100)\n",
    "    ## for numeric predictions around the right number: \n",
    "    #y_pred = np.arange(k-.1,k+.1,.2/100)\n",
    "    y_pred = np.ones((100,),)*k\n",
    "    y_preds.append(y_pred)\n",
    "    y_reals.append(y_real)\n",
    "y_preds = np.concatenate(y_preds)\n",
    "y_reals = np.concatenate(y_reals)\n",
    "fpr, tpr, thresholds = metrics.roc_curve(y_reals, y_preds)\n",
    "plt.plot(fpr, tpr, label=\"AUC (C=\" + str(100) + \") = \" )\n",
    "k_str = ', '.join([str(i) for i in ks])\n",
    "plt.title(f'k = {k_str}')"
   ]
  },
  {
   "cell_type": "code",
   "execution_count": 12,
   "metadata": {},
   "outputs": [
    {
     "data": {
      "text/plain": [
       "array([[ 4., 16.],\n",
       "       [ 4., 16.]])"
      ]
     },
     "execution_count": 12,
     "metadata": {},
     "output_type": "execute_result"
    }
   ],
   "source": [
    "  p n\n",
    "Y 4 16\n",
    "N 16 64 \n",
    "#np.array([[20-.8*20,20-.2*20],[20-.8*20,80-.8*80]])"
   ]
  },
  {
   "cell_type": "code",
   "execution_count": 15,
   "metadata": {},
   "outputs": [],
   "source": [
    "metrics.roc_auc_score??"
   ]
  }
 ],
 "metadata": {
  "kernelspec": {
   "display_name": "Python [conda env:narrativ] *",
   "language": "python",
   "name": "conda-env-narrativ-py"
  },
  "language_info": {
   "codemirror_mode": {
    "name": "ipython",
    "version": 3
   },
   "file_extension": ".py",
   "mimetype": "text/x-python",
   "name": "python",
   "nbconvert_exporter": "python",
   "pygments_lexer": "ipython3",
   "version": "3.7.6"
  }
 },
 "nbformat": 4,
 "nbformat_minor": 4
}
